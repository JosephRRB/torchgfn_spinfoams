{
 "cells": [
  {
   "cell_type": "code",
   "execution_count": 1,
   "id": "9e2fb932",
   "metadata": {},
   "outputs": [],
   "source": [
    "import os\n",
    "import sys\n",
    "\n",
    "ROOT_DIR = os.path.abspath(\"__file__\" + \"/../../\")\n",
    "sys.path.insert(0, f\"{ROOT_DIR}\")"
   ]
  },
  {
   "cell_type": "code",
   "execution_count": 3,
   "id": "b2da5ac1",
   "metadata": {},
   "outputs": [],
   "source": [
    "from src.spinfoam.spinfoams import SingleVertexSpinFoam\n",
    "from src.spinfoam.sf_env import SpinFoamEnvironment\n",
    "\n",
    "spin_j = 3.0\n",
    "env = SpinFoamEnvironment(\n",
    "    spinfoam_model=SingleVertexSpinFoam(spin_j=spin_j)\n",
    ")"
   ]
  },
  {
   "cell_type": "code",
   "execution_count": 4,
   "id": "d9f6794b",
   "metadata": {},
   "outputs": [
    {
     "name": "stderr",
     "output_type": "stream",
     "text": [
      "/home/josephb/anaconda3/envs/gfn/lib/python3.10/site-packages/torch/optim/adam.py:33: UserWarning: optimizer contains a parameter group with duplicate parameters; in future, this will cause an error; see github.com/pytorch/pytorch/issues/40967 for more information\n",
      "  super().__init__(params, defaults)\n"
     ]
    }
   ],
   "source": [
    "import torch\n",
    "\n",
    "from gfn import LogitPBEstimator, LogitPFEstimator, LogZEstimator\n",
    "from gfn.losses import TBParametrization, TrajectoryBalance\n",
    "from gfn.samplers import DiscreteActionsSampler, TrajectoriesSampler\n",
    "\n",
    "logit_PF = LogitPFEstimator(env=env, module_name=\"NeuralNet\")\n",
    "logit_PB = LogitPBEstimator(\n",
    "    env=env,\n",
    "    module_name=\"NeuralNet\",\n",
    "    torso=logit_PF.module.torso,  # To share parameters between PF and PB\n",
    ")\n",
    "logZ = LogZEstimator(torch.tensor(0.0))\n",
    "\n",
    "\n",
    "training_sampler = TrajectoriesSampler(\n",
    "    env=env,\n",
    "    actions_sampler=DiscreteActionsSampler(\n",
    "        estimator=logit_PF,\n",
    "        epsilon=0.5\n",
    "    )\n",
    ")\n",
    "\n",
    "eval_sampler = TrajectoriesSampler(\n",
    "    env=env, actions_sampler=DiscreteActionsSampler(estimator=logit_PF)\n",
    ")\n",
    "\n",
    "parametrization = TBParametrization(logit_PF, logit_PB, logZ)\n",
    "loss_fn = TrajectoryBalance(\n",
    "    parametrization=parametrization,\n",
    "    log_reward_clip_min=-500.0\n",
    ")\n",
    "\n",
    "params = [\n",
    "    {\n",
    "        \"params\": [\n",
    "            val for key, val in parametrization.parameters.items() if \"logZ\" not in key\n",
    "        ],\n",
    "        \"lr\": 0.001,\n",
    "    },\n",
    "#     {\"params\": [val for key, val in parametrization.parameters.items() if \"logZ\" in key], \"lr\": 0.1},\n",
    "]\n",
    "optimizer = torch.optim.Adam(params)"
   ]
  },
  {
   "cell_type": "code",
   "execution_count": 5,
   "id": "232bd9c0",
   "metadata": {},
   "outputs": [
    {
     "name": "stderr",
     "output_type": "stream",
     "text": [
      "100%|███████████████████████████████████████████████████████████████████████████████████████████████████████████████████████| 1000/1000 [02:27<00:00,  6.78it/s, loss=0.974]\n"
     ]
    }
   ],
   "source": [
    "from tqdm import tqdm\n",
    "\n",
    "losses = []\n",
    "terminal_states = []\n",
    "\n",
    "for i in (pbar := tqdm(range(int(1e3)))):\n",
    "    trajectories = training_sampler.sample(\n",
    "        n_trajectories=int(1e3)\n",
    "    )\n",
    "    optimizer.zero_grad()\n",
    "    loss = loss_fn(trajectories)\n",
    "    loss.backward()\n",
    "    optimizer.step()\n",
    "    if i % 100 == 0:\n",
    "        pbar.set_postfix({\"loss\": loss.item()})\n",
    "        eval_trajectories = eval_sampler.sample(\n",
    "            n_trajectories=int(1e3)\n",
    "        )\n",
    "        terminal_states.append(\n",
    "            eval_trajectories.last_states.states_tensor\n",
    "        )\n",
    "       \n",
    "    losses.append(loss.item())"
   ]
  },
  {
   "cell_type": "code",
   "execution_count": null,
   "id": "526e7877",
   "metadata": {},
   "outputs": [],
   "source": []
  }
 ],
 "metadata": {
  "kernelspec": {
   "display_name": "Python [conda env:gfn] *",
   "language": "python",
   "name": "conda-env-gfn-py"
  },
  "language_info": {
   "codemirror_mode": {
    "name": "ipython",
    "version": 3
   },
   "file_extension": ".py",
   "mimetype": "text/x-python",
   "name": "python",
   "nbconvert_exporter": "python",
   "pygments_lexer": "ipython3",
   "version": "3.10.11"
  }
 },
 "nbformat": 4,
 "nbformat_minor": 5
}
