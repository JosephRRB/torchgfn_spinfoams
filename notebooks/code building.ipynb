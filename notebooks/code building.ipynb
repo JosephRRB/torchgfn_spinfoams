{
 "cells": [
  {
   "cell_type": "code",
   "execution_count": 1,
   "id": "81ce180d",
   "metadata": {},
   "outputs": [],
   "source": [
    "import os\n",
    "import sys\n",
    "\n",
    "ROOT_DIR = os.path.abspath(\"__file__\" + \"/../../\")\n",
    "sys.path.insert(0, f\"{ROOT_DIR}\")"
   ]
  },
  {
   "cell_type": "code",
   "execution_count": 2,
   "id": "d4e86752",
   "metadata": {},
   "outputs": [],
   "source": [
    "from src.spinfoam.spinfoams import SingleVertexSpinFoam\n",
    "from src.spinfoam.sf_env import SpinFoamEnvironment\n",
    "\n",
    "spin_j = 3.0\n",
    "env = SpinFoamEnvironment(\n",
    "    spinfoam_model=SingleVertexSpinFoam(spin_j=spin_j)\n",
    ")"
   ]
  },
  {
   "cell_type": "code",
   "execution_count": 3,
   "id": "4cd514f8",
   "metadata": {},
   "outputs": [
    {
     "name": "stderr",
     "output_type": "stream",
     "text": [
      "/home/josephb/anaconda3/envs/gfn/lib/python3.10/site-packages/torch/optim/adam.py:33: UserWarning: optimizer contains a parameter group with duplicate parameters; in future, this will cause an error; see github.com/pytorch/pytorch/issues/40967 for more information\n",
      "  super().__init__(params, defaults)\n"
     ]
    }
   ],
   "source": [
    "import torch\n",
    "\n",
    "from gfn import LogitPBEstimator, LogitPFEstimator, LogZEstimator\n",
    "from gfn.losses import TBParametrization, TrajectoryBalance\n",
    "from gfn.samplers import DiscreteActionsSampler, TrajectoriesSampler\n",
    "\n",
    "logit_PF = LogitPFEstimator(env=env, module_name=\"NeuralNet\")\n",
    "logit_PB = LogitPBEstimator(\n",
    "    env=env,\n",
    "    module_name=\"NeuralNet\",\n",
    "    torso=logit_PF.module.torso,  # To share parameters between PF and PB\n",
    ")\n",
    "logZ = LogZEstimator(torch.tensor(0.0))\n",
    "\n",
    "\n",
    "training_sampler = TrajectoriesSampler(\n",
    "    env=env,\n",
    "    actions_sampler=DiscreteActionsSampler(\n",
    "        estimator=logit_PF,\n",
    "        epsilon=0.5\n",
    "    )\n",
    ")\n",
    "\n",
    "eval_sampler = TrajectoriesSampler(\n",
    "    env=env, actions_sampler=DiscreteActionsSampler(estimator=logit_PF)\n",
    ")\n",
    "\n",
    "parametrization = TBParametrization(logit_PF, logit_PB, logZ)\n",
    "loss_fn = TrajectoryBalance(\n",
    "    parametrization=parametrization,\n",
    "    log_reward_clip_min=-500.0\n",
    ")\n",
    "\n",
    "params = [\n",
    "    {\n",
    "        \"params\": [\n",
    "            val for key, val in parametrization.parameters.items() if \"logZ\" not in key\n",
    "        ],\n",
    "        \"lr\": 0.001,\n",
    "    },\n",
    "#     {\"params\": [val for key, val in parametrization.parameters.items() if \"logZ\" in key], \"lr\": 0.1},\n",
    "]\n",
    "optimizer = torch.optim.Adam(params)"
   ]
  },
  {
   "cell_type": "code",
   "execution_count": 4,
   "id": "7cd002fe",
   "metadata": {},
   "outputs": [
    {
     "name": "stderr",
     "output_type": "stream",
     "text": [
      "100%|███████████████████████████████████████████████████████████████████████████████████████████████████████████████████████| 1000/1000 [02:36<00:00,  6.40it/s, loss=0.832]\n"
     ]
    }
   ],
   "source": [
    "from tqdm import tqdm\n",
    "\n",
    "losses = []\n",
    "terminal_states = []\n",
    "\n",
    "for i in (pbar := tqdm(range(int(1e3)))):\n",
    "    trajectories = training_sampler.sample(\n",
    "        n_trajectories=int(1e3)\n",
    "    )\n",
    "    optimizer.zero_grad()\n",
    "    loss = loss_fn(trajectories)\n",
    "    loss.backward()\n",
    "    optimizer.step()\n",
    "    if i % 100 == 0:\n",
    "        pbar.set_postfix({\"loss\": loss.item()})\n",
    "        eval_trajectories = eval_sampler.sample(\n",
    "            n_trajectories=int(1e3)\n",
    "        )\n",
    "        terminal_states.append(\n",
    "            eval_trajectories.last_states.states_tensor[None, :, :]\n",
    "        )\n",
    "       \n",
    "    losses.append(loss.item())"
   ]
  },
  {
   "cell_type": "code",
   "execution_count": 7,
   "id": "f19d3dfa",
   "metadata": {},
   "outputs": [
    {
     "data": {
      "text/plain": [
       "tensor([[-0.8116, -0.8272, -0.8230, -0.8173, -0.8128],\n",
       "        [-0.5792, -0.5837, -0.5411, -0.5479, -0.5428],\n",
       "        [-0.4753, -0.7593, -0.7272, -0.6062, -0.6958],\n",
       "        [-0.4867, -0.8484, -0.8021, -0.6712, -0.7760],\n",
       "        [-0.3843, -0.8301, -0.6693, -0.6708, -0.6884],\n",
       "        [-0.3102, -0.8377, -0.6926, -0.6573, -0.7682],\n",
       "        [-0.4247, -0.8547, -0.7750, -0.7644, -0.7654],\n",
       "        [-0.4325, -0.8472, -0.7480, -0.6971, -0.7758],\n",
       "        [-0.6122, -0.8224, -0.7842, -0.6890, -0.7646],\n",
       "        [-0.4390, -0.8064, -0.7663, -0.6342, -0.7394]])"
      ]
     },
     "execution_count": 7,
     "metadata": {},
     "output_type": "execute_result"
    }
   ],
   "source": [
    "intertwiners = torch.cat(terminal_states)\n",
    "cos_angles = intertwiners*(intertwiners+1)/(2*spin_j*(spin_j+1)) - 1\n",
    "ave_cos_angles = torch.mean(cos_angles, dim=1)\n",
    "ave_cos_angles"
   ]
  },
  {
   "cell_type": "code",
   "execution_count": 8,
   "id": "6226a228",
   "metadata": {},
   "outputs": [
    {
     "data": {
      "text/plain": [
       "[<matplotlib.lines.Line2D at 0x7fc1351de140>]"
      ]
     },
     "execution_count": 8,
     "metadata": {},
     "output_type": "execute_result"
    },
    {
     "data": {
      "image/png": "[encoded data removed]",
      "text/plain": [
       "<Figure size 640x480 with 1 Axes>"
      ]
     },
     "metadata": {},
     "output_type": "display_data"
    }
   ],
   "source": [
    "import matplotlib.pyplot as plt\n",
    "\n",
    "plt.plot(ave_cos_angles[:, 0])"
   ]
  },
  {
   "cell_type": "code",
   "execution_count": null,
   "id": "26ce5caf",
   "metadata": {},
   "outputs": [],
   "source": []
  }
 ],
 "metadata": {
  "kernelspec": {
   "display_name": "Python [conda env:gfn] *",
   "language": "python",
   "name": "conda-env-gfn-py"
  },
  "language_info": {
   "codemirror_mode": {
    "name": "ipython",
    "version": 3
   },
   "file_extension": ".py",
   "mimetype": "text/x-python",
   "name": "python",
   "nbconvert_exporter": "python",
   "pygments_lexer": "ipython3",
   "version": "3.10.11"
  }
 },
 "nbformat": 4,
 "nbformat_minor": 5
}
