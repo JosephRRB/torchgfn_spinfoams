{
 "cells": [
  {
   "cell_type": "code",
   "execution_count": 1,
   "id": "81ce180d",
   "metadata": {},
   "outputs": [],
   "source": [
    "import os\n",
    "import sys\n",
    "\n",
    "ROOT_DIR = os.path.abspath(\"__file__\" + \"/../../\")\n",
    "sys.path.insert(0, f\"{ROOT_DIR}\")"
   ]
  },
  {
   "cell_type": "code",
   "execution_count": 2,
   "id": "d4e86752",
   "metadata": {},
   "outputs": [],
   "source": [
    "from src.spinfoam.spinfoams import SingleVertexSpinFoam\n",
    "from src.spinfoam.sf_env import SpinFoamEnvironment\n",
    "\n",
    "spin_j = 3.0\n",
    "env = SpinFoamEnvironment(\n",
    "    spinfoam_model=SingleVertexSpinFoam(spin_j=spin_j)\n",
    ")"
   ]
  },
  {
   "cell_type": "code",
   "execution_count": 3,
   "id": "4cd514f8",
   "metadata": {},
   "outputs": [
    {
     "name": "stderr",
     "output_type": "stream",
     "text": [
      "c:\\Users\\Jared\\anaconda3\\envs\\torchgfn\\lib\\site-packages\\torch\\optim\\adam.py:33: UserWarning: optimizer contains a parameter group with duplicate parameters; in future, this will cause an error; see github.com/pytorch/pytorch/issues/40967 for more information\n",
      "  super().__init__(params, defaults)\n"
     ]
    }
   ],
   "source": [
    "import torch\n",
    "\n",
    "from gfn import LogitPBEstimator, LogitPFEstimator, LogZEstimator\n",
    "from gfn.losses import TBParametrization, TrajectoryBalance\n",
    "from gfn.samplers import DiscreteActionsSampler, TrajectoriesSampler\n",
    "\n",
    "logit_PF = LogitPFEstimator(env=env, module_name=\"NeuralNet\")\n",
    "logit_PB = LogitPBEstimator(\n",
    "    env=env,\n",
    "    module_name=\"NeuralNet\",\n",
    "    torso=logit_PF.module.torso,  # To share parameters between PF and PB\n",
    ")\n",
    "logZ = LogZEstimator(torch.tensor(0.0))\n",
    "\n",
    "\n",
    "training_sampler = TrajectoriesSampler(\n",
    "    env=env,\n",
    "    actions_sampler=DiscreteActionsSampler(\n",
    "        estimator=logit_PF,\n",
    "        epsilon=0.5\n",
    "    )\n",
    ")\n",
    "\n",
    "eval_sampler = TrajectoriesSampler(\n",
    "    env=env, actions_sampler=DiscreteActionsSampler(estimator=logit_PF)\n",
    ")\n",
    "\n",
    "parametrization = TBParametrization(logit_PF, logit_PB, logZ)\n",
    "loss_fn = TrajectoryBalance(\n",
    "    parametrization=parametrization,\n",
    "    log_reward_clip_min=-500.0\n",
    ")\n",
    "\n",
    "params = [\n",
    "    {\n",
    "        \"params\": [\n",
    "            val for key, val in parametrization.parameters.items() if \"logZ\" not in key\n",
    "        ],\n",
    "        \"lr\": 0.001,\n",
    "    },\n",
    "#     {\"params\": [val for key, val in parametrization.parameters.items() if \"logZ\" in key], \"lr\": 0.1},\n",
    "]\n",
    "optimizer = torch.optim.Adam(params)"
   ]
  },
  {
   "cell_type": "code",
   "execution_count": 5,
   "id": "7cd002fe",
   "metadata": {},
   "outputs": [
    {
     "name": "stderr",
     "output_type": "stream",
     "text": [
      "100%|██████████| 1000/1000 [04:24<00:00,  3.78it/s, loss=0.667]\n"
     ]
    }
   ],
   "source": [
    "from tqdm import tqdm\n",
    "\n",
    "losses = []\n",
    "terminal_states = []\n",
    "\n",
    "for i in (pbar := tqdm(range(int(1e3)))):\n",
    "    trajectories = training_sampler.sample(\n",
    "        n_trajectories=int(1e3)\n",
    "    )\n",
    "    optimizer.zero_grad()\n",
    "    loss = loss_fn(trajectories)\n",
    "    loss.backward()\n",
    "    optimizer.step()\n",
    "    if i % 100 == 0:\n",
    "        pbar.set_postfix({\"loss\": loss.item()})\n",
    "        eval_trajectories = eval_sampler.sample(\n",
    "            n_trajectories=int(1e3)\n",
    "        )\n",
    "        terminal_states.append(\n",
    "            eval_trajectories.last_states.states_tensor[None, :, :]\n",
    "        )\n",
    "       \n",
    "    losses.append(loss.item())"
   ]
  },
  {
   "cell_type": "code",
   "execution_count": 6,
   "id": "f19d3dfa",
   "metadata": {},
   "outputs": [
    {
     "data": {
      "text/plain": [
       "tensor([[-0.8282, -0.8133, -0.8194, -0.8359, -0.8358],\n",
       "        [-0.5446, -0.5926, -0.4540, -0.5617, -0.5504],\n",
       "        [-0.5324, -0.6465, -0.3988, -0.6356, -0.5448],\n",
       "        [-0.6644, -0.7676, -0.4538, -0.7614, -0.7424],\n",
       "        [-0.7647, -0.7156, -0.5020, -0.8253, -0.7615],\n",
       "        [-0.7587, -0.7178, -0.3490, -0.7913, -0.7792],\n",
       "        [-0.6968, -0.6485, -0.3240, -0.7575, -0.7711],\n",
       "        [-0.7177, -0.6302, -0.5149, -0.8118, -0.7617],\n",
       "        [-0.7615, -0.7684, -0.3527, -0.7478, -0.7691],\n",
       "        [-0.7412, -0.6839, -0.4322, -0.7648, -0.7714]])"
      ]
     },
     "execution_count": 6,
     "metadata": {},
     "output_type": "execute_result"
    }
   ],
   "source": [
    "intertwiners = torch.cat(terminal_states)\n",
    "cos_angles = intertwiners*(intertwiners+1)/(2*spin_j*(spin_j+1)) - 1\n",
    "ave_cos_angles = torch.mean(cos_angles, dim=1)\n",
    "ave_cos_angles"
   ]
  },
  {
   "cell_type": "code",
   "execution_count": 7,
   "id": "6226a228",
   "metadata": {},
   "outputs": [
    {
     "data": {
      "text/plain": [
       "[<matplotlib.lines.Line2D at 0x2286538d6c0>]"
      ]
     },
     "execution_count": 7,
     "metadata": {},
     "output_type": "execute_result"
    },
    {
     "data": {
      "image/png": "[encoded data removed]",
      "text/plain": [
       "<Figure size 640x480 with 1 Axes>"
      ]
     },
     "metadata": {},
     "output_type": "display_data"
    }
   ],
   "source": [
    "import matplotlib.pyplot as plt\n",
    "\n",
    "plt.plot(ave_cos_angles[:, 0])"
   ]
  },
  {
   "cell_type": "code",
   "execution_count": null,
   "id": "26ce5caf",
   "metadata": {},
   "outputs": [],
   "source": []
  }
 ],
 "metadata": {
  "kernelspec": {
   "display_name": "base",
   "language": "python",
   "name": "python3"
  },
  "language_info": {
   "codemirror_mode": {
    "name": "ipython",
    "version": 3
   },
   "file_extension": ".py",
   "mimetype": "text/x-python",
   "name": "python",
   "nbconvert_exporter": "python",
   "pygments_lexer": "ipython3",
   "version": "3.10.11"
  }
 },
 "nbformat": 4,
 "nbformat_minor": 5
}
