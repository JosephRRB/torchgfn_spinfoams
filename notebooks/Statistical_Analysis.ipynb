{
 "cells": [
  {
   "attachments": {},
   "cell_type": "markdown",
   "metadata": {},
   "source": [
    "# Statistical analysis of the distributions obtained by MCMC and GFN\n",
    "\n",
    "We are going to split the document in two main categories following the classification in this [link](https://towardsdatascience.com/how-to-compare-two-or-more-distributions-9b06ee4d30bf): visualization and quantitative analysis."
   ]
  },
  {
   "cell_type": "code",
   "execution_count": 2,
   "metadata": {},
   "outputs": [],
   "source": [
    "import os\n",
    "import sys\n",
    "\n",
    "ROOT_DIR = os.path.abspath(\"__file__\" + \"/../../\")\n",
    "sys.path.insert(0, f\"{ROOT_DIR}\")"
   ]
  },
  {
   "cell_type": "code",
   "execution_count": 9,
   "metadata": {},
   "outputs": [],
   "source": [
    "import seaborn as sns\n",
    "import scipy.stats\n",
    "import matplotlib.pyplot as plt\n",
    "import numpy as np\n",
    "import pandas as pd\n",
    "import tableone"
   ]
  },
  {
   "cell_type": "markdown",
   "metadata": {},
   "source": [
    "## Visualization"
   ]
  },
  {
   "attachments": {},
   "cell_type": "markdown",
   "metadata": {},
   "source": [
    "### Boxplot"
   ]
  },
  {
   "attachments": {},
   "cell_type": "markdown",
   "metadata": {},
   "source": [
    "For the box plot, we can have in the x-axis the theoretical distribution along with the empirical ones and in the y the respective frequencies for the grid coordinates. We can, then, check whether the simualtions overestimate grid coordinated in general or if they follow a more \"smooth\" distibution."
   ]
  },
  {
   "cell_type": "code",
   "execution_count": 5,
   "metadata": {},
   "outputs": [],
   "source": [
    "# Assuming a pd dataframe with three columns distribution type, grid coordinates, frequency/reward and as number of rows 3*number of ccordinates"
   ]
  },
  {
   "cell_type": "code",
   "execution_count": null,
   "metadata": {},
   "outputs": [],
   "source": [
    "sns.boxplot(data=df, x='Distribution', y='Frequency/Reward')\n",
    "plt.title(\"Boxplot\")\n",
    "plt.show()\n",
    "plt.clf()\n"
   ]
  },
  {
   "attachments": {},
   "cell_type": "markdown",
   "metadata": {},
   "source": [
    "### Histrogram"
   ]
  },
  {
   "attachments": {},
   "cell_type": "markdown",
   "metadata": {},
   "source": [
    "The same applies for the histrogram. Three histograms (one for each distribution) one on top of the other where we plot the respective frequencies/rewards for each grid ccordinate."
   ]
  },
  {
   "cell_type": "code",
   "execution_count": null,
   "metadata": {},
   "outputs": [],
   "source": [
    "sns.histplot(data=df, x='Grid Coordinate', hue='Distribution') # Probably it is better to do the relative frequencies.\n",
    "plt.title(\"Histogram\")\n",
    "plt.show()\n",
    "plt.clf()"
   ]
  },
  {
   "attachments": {},
   "cell_type": "markdown",
   "metadata": {},
   "source": [
    "### Kernel Density"
   ]
  },
  {
   "attachments": {},
   "cell_type": "markdown",
   "metadata": {},
   "source": [
    "The same with the histogram but in a continous approximation."
   ]
  },
  {
   "cell_type": "code",
   "execution_count": null,
   "metadata": {},
   "outputs": [],
   "source": [
    "sns.kdeplot(x='Grid Coordinate', data=df, hue='Distribution', common_norm=False)\n",
    "plt.title(\"Kernel Density Function\")\n",
    "plt.show()\n",
    "plt.clf()"
   ]
  },
  {
   "attachments": {},
   "cell_type": "markdown",
   "metadata": {},
   "source": [
    "### Cumulative Distributions"
   ]
  },
  {
   "attachments": {},
   "cell_type": "markdown",
   "metadata": {},
   "source": [
    "The same as in the histogram but for a contunuous cunulative distribution."
   ]
  },
  {
   "cell_type": "code",
   "execution_count": null,
   "metadata": {},
   "outputs": [],
   "source": [
    "sns.histplot(x='Grid Coordinate', data=df, hue='Distribution', bins=len(df), stat=\"density\",\n",
    "             element=\"step\", fill=False, cumulative=True, common_norm=False)\n",
    "plt.title(\"Cumulative distribution function\")\n",
    "plt.show()\n",
    "plt.clf()\n"
   ]
  },
  {
   "attachments": {},
   "cell_type": "markdown",
   "metadata": {},
   "source": [
    "### Q-Q Plot"
   ]
  },
  {
   "attachments": {},
   "cell_type": "markdown",
   "metadata": {},
   "source": [
    "Here we are going to have two plots. One for the GFN with respect to the theoretical one and one with GFN with respect to the theoretical one."
   ]
  },
  {
   "cell_type": "code",
   "execution_count": null,
   "metadata": {},
   "outputs": [],
   "source": [
    "grid_coordinates = df['Grid Coordinate'].values\n",
    "grid_coordinates_theoretical = df.loc[df.Distribution == 'Theoretical', 'Grid Coordinate'].values\n",
    "grid_coordinates_MCMC = df.loc[df.Distribution=='MCMC', 'Grid Coordinate'].values\n",
    "grid_coordinates_GFN = df.loc[df.Distribution=='GFN', 'Grid Coordinate'].values\n",
    "\n",
    "df_pct = pd.DataFrame()\n",
    "df_pct['q_theoretical'] = np.percentile(grid_coordinates_theoretical, range(100))\n",
    "df_pct['q_MCMC'] = np.percentile(grid_coordinates_MCMC, range(100))\n",
    "df_pct['q_GFN'] = np.percentile(grid_coordinates_GFN, range(100))"
   ]
  },
  {
   "cell_type": "code",
   "execution_count": null,
   "metadata": {},
   "outputs": [],
   "source": [
    "fig, axs = plt.subplots(nrows=1, ncols=2, figsize=(9, 6), subplot_kw={'xticks': [], 'yticks': []})\n",
    "\n",
    "axs[0].scatter(x='q_theoretical', y='q_MCMC', data=df_pct, label='MCMC')\n",
    "sns.lineplot(ax=axs[0], x='q_theoretical', y='q_theoretical', data=df_pct, color='r', label='Line of perfect fit')\n",
    "axs[0].set_title(\"MCMC\")\n",
    "axs[1].scatter(x='q_theoretical', y='q_GFN', data=df_pct, label='GFN')\n",
    "sns.lineplot(ax=axs[1], x='q_theoretical', y='q_theoretical', data=df_pct, color='r', label='Line of perfect fit')\n",
    "axs[1].set_title(\"GFN\")\n",
    "\n",
    "plt.tight_layout()\n",
    "plt.show()\n",
    "plt.clf()\n"
   ]
  },
  {
   "attachments": {},
   "cell_type": "markdown",
   "metadata": {},
   "source": [
    "## Quantitative Analysis"
   ]
  },
  {
   "attachments": {},
   "cell_type": "markdown",
   "metadata": {},
   "source": [
    "For this part there are two ideas. One is to just compute the respective numbers fo the final cases of the empirical dsitributions. The other is (just for the GFN case), if we have data for each iteration (or batch of iterations) to plot the respective number for each iteration (batch)."
   ]
  },
  {
   "cell_type": "code",
   "execution_count": 6,
   "metadata": {},
   "outputs": [],
   "source": [
    "# Assuming that we have mulitple dataframes: the final states (which is he same as in the previous section) and some for the intermediate states."
   ]
  },
  {
   "attachments": {},
   "cell_type": "markdown",
   "metadata": {},
   "source": [
    "### T-test / Welch's t-test"
   ]
  },
  {
   "cell_type": "code",
   "execution_count": null,
   "metadata": {},
   "outputs": [],
   "source": [
    "if np.var(grid_coordinates_theoretical)/np.var(grid_coordinates_MCMC) < 4 or np.var(grid_coordinates_MCMC)/np.var(grid_coordinates_theoretical) < 4:\n",
    "    equal_var_MCMC = True\n",
    "else:\n",
    "    equal_var_MCMC = False\n",
    "\n",
    "stat_MCMC, p_value_MCMC = scipy.stats.ttest_ind(grid_coordinates_theoretical, grid_coordinates_MCMC, equal_var = equal_var_MCMC )\n",
    "print(f\"t-test for the MCMC: statistic={stat_MCMC:.4f}, p-value={p_value_MCMC:.4f}\")\n",
    "\n",
    "if np.var(grid_coordinates_theoretical)/np.var(grid_coordinates_GFN) < 4 or np.var(grid_coordinates_GFN)/np.var(grid_coordinates_theoretical) < 4:\n",
    "    equal_var_GFN = True\n",
    "else:\n",
    "    equal_var_GFN = False\n",
    "\n",
    "\n",
    "stat_GFN, p_value_GFN = scipy.stats.ttest_ind(grid_coordinates_theoretical, grid_coordinates_GFN, equal_var =equal_var_GFN)\n",
    "print(f\"t-test for the GFN: statistic={stat_GFN:.4f}, p-value={p_value_GFN:.4f}\")"
   ]
  },
  {
   "cell_type": "code",
   "execution_count": null,
   "metadata": {},
   "outputs": [],
   "source": [
    "# For the intermediate states:\n",
    "data = []\n",
    "batch = 1\n",
    "for file in :\n",
    "    df = pd.read_csv(file, delimiter=',')\n",
    "    grid_coordianates_batch = df['Grid Coordinate'].values\n",
    "    grid_coordinates_theoretical_batch = df.loc[df.Distribution == 'Theoretical', 'Grid Coordinate'].values\n",
    "    grid_coordinates_GFN_batch = df.loc[df.Distribution=='GFN', 'Grid Coordinate'].values\n",
    "\n",
    "    if np.var(grid_coordinates_theoretical_batch)/np.var(grid_coordinates_GFN_batch) > 4 or np.var(grid_coordinates_GFN_batch)/np.var(grid_coordinates_theoretical_batch) > 4:\n",
    "        equal_var_GFN_batch = False\n",
    "    else:\n",
    "        equal_var_GFN_batch = True\n",
    "\n",
    "    stat_GFN_batch, p_value_GFN_batch = scipy.stats.ttest_ind(grid_coordinates_theoretical_batch, grid_coordinates_GFN_batch, equal_var = equal_var_GFN_batch)\n",
    "    data.append([batch, p_value_GFN])\n",
    "    batch += 1\n",
    "\n",
    "plt.plot(data=data, label=\"t-test for everyt batch of the GFN\")\n",
    "plt.show()\n",
    "plt.clf()"
   ]
  },
  {
   "attachments": {},
   "cell_type": "markdown",
   "metadata": {},
   "source": [
    "### Standardized Mean Difference"
   ]
  },
  {
   "cell_type": "code",
   "execution_count": null,
   "metadata": {},
   "outputs": [],
   "source": [
    "# The one in the website is up to python 3.9, so I used another one, where the documentation is not htat good. I will fo the rest of the plots after we get the data.\n",
    "df_MCMC = df.drop(df[df['Distribution'] == \"GFN\"].index, inplace = True)\n",
    "table_one_MCMC = tableone.TableOne(df_MCMC)\n",
    "print(df_MCMC.tabulate(tablefmt=\"github\"))\n",
    "\n",
    "df_GFN = df.drop(df[df['Distribution'] == \"MCMC\"].index, inplace = True)\n",
    "table_one_GFN = tableone.TableOne(df_GFN)\n",
    "print(df_GFN.tabulate(tablefmt=\"github\"))"
   ]
  },
  {
   "attachments": {},
   "cell_type": "markdown",
   "metadata": {},
   "source": [
    "### Mann–Whitney U Test / Brunner-Munzel test"
   ]
  },
  {
   "cell_type": "code",
   "execution_count": null,
   "metadata": {},
   "outputs": [],
   "source": [
    "if equal_var_MCMC:\n",
    "    stat_MCMC, p_value_MCMC = scipy.stats.mannwhitneyu(grid_coordinates, grid_coordinates_MCMC)\n",
    "    print(f\" Mann–Whitney U Test: statistic={stat_MCMC:.4f}, p-value={p_value_MCMC:.4f}\")\n",
    "else:\n",
    "    stat_MCMC, p_value_MCMC = scipy.stats.brunnermunzel(grid_coordinates, grid_coordinates_MCMC)\n",
    "    print(f\"  Brunner-Munzel test: statistic={stat_MCMC:.4f}, p-value={p_value_MCMC:.4f}\")\n",
    "\n",
    "if equal_var_GFN:\n",
    "    stat_GFN, p_value_GFN = scipy.stats.mannwhitneyu(grid_coordinates, grid_coordinates_GFN)\n",
    "    print(f\" Mann–Whitney U Test: statistic={stat_GFN:.4f}, p-value={p_value_GFN:.4f}\")\n",
    "else:\n",
    "    stat_GFN, p_value_GFN = scipy.stats.brunnermunzel(grid_coordinates, grid_coordinates_GFN)\n",
    "    print(f\"  Brunner-Munzel test: statistic={stat_GFN:.4f}, p-value={p_value_GFN:.4f}\")"
   ]
  },
  {
   "cell_type": "code",
   "execution_count": null,
   "metadata": {},
   "outputs": [],
   "source": [
    "# For the intermediate states:\n",
    "data = []\n",
    "batch = 1\n",
    "for file in :\n",
    "    df = pd.read_csv(file, delimiter=',')\n",
    "    grid_coordianates_batch = df['Grid Coordinate'].values\n",
    "    grid_coordinates_theoretical_batch = df.loc[df.Distribution == 'Theoretical', 'Grid Coordinate'].values\n",
    "    grid_coordinates_GFN_batch = df.loc[df.Distribution=='GFN', 'Grid Coordinate'].values\n",
    "\n",
    "    if np.var(grid_coordinates_theoretical_batch)/np.var(grid_coordinates_GFN_batch) > 4 or np.var(grid_coordinates_GFN_batch)/np.var(grid_coordinates_theoretical_batch) > 4:\n",
    "        equal_var_GFN_batch = False\n",
    "    else:\n",
    "        equal_var_GFN_batch = True\n",
    "\n",
    "    if equal_var_GFN:\n",
    "        stat_GFN, p_value_GFN = scipy.stats.mannwhitneyu(grid_coordinates, grid_coordinates_GFN)\n",
    "        label = \"Mann–Whitney U Test for each batch of the GFN\"\n",
    "    else:\n",
    "        stat_GFN, p_value_GFN = scipy.stats.brunnermunzel(grid_coordinates, grid_coordinates_GFN)\n",
    "        label = \"Brunner-Munzel test for each batch of the GFN\"\n",
    "    data.append([batch, p_value_GFN])\n",
    "    batch += 1\n",
    "\n",
    "plt.plot(data=data, label=label)\n",
    "plt.show()\n",
    "plt.clf()"
   ]
  },
  {
   "attachments": {},
   "cell_type": "markdown",
   "metadata": {},
   "source": [
    "### Permutation Tests"
   ]
  },
  {
   "attachments": {},
   "cell_type": "markdown",
   "metadata": {},
   "source": [
    "### Chi-Squared Test"
   ]
  },
  {
   "attachments": {},
   "cell_type": "markdown",
   "metadata": {},
   "source": [
    "### Kolmogorov-Smirnov Test / Lilliefors test / Anderson-Darling test / Cramér-von Mises test"
   ]
  },
  {
   "cell_type": "code",
   "execution_count": null,
   "metadata": {},
   "outputs": [],
   "source": []
  }
 ],
 "metadata": {
  "kernelspec": {
   "display_name": "gfn_spinfoams",
   "language": "python",
   "name": "python3"
  },
  "language_info": {
   "codemirror_mode": {
    "name": "ipython",
    "version": 3
   },
   "file_extension": ".py",
   "mimetype": "text/x-python",
   "name": "python",
   "nbconvert_exporter": "python",
   "pygments_lexer": "ipython3",
   "version": "3.10.11"
  },
  "orig_nbformat": 4,
  "vscode": {
   "interpreter": {
    "hash": "0a7e2e70a8e36dd0a482639dee9e7ac5dea7b92be2a30c77fce633d16076821e"
   }
  }
 },
 "nbformat": 4,
 "nbformat_minor": 2
}
