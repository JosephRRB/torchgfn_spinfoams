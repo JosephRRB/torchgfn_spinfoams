{
 "cells": [
  {
   "attachments": {},
   "cell_type": "markdown",
   "metadata": {},
   "source": [
    "# Statistical analysis of the distributions obtained by MCMC and GFN\n",
    "\n",
    "We are going to split the document in two main categories following the classification in this [link](https://towardsdatascience.com/how-to-compare-two-or-more-distributions-9b06ee4d30bf): visualization and quantitative analysis."
   ]
  },
  {
   "cell_type": "code",
   "execution_count": 2,
   "metadata": {},
   "outputs": [],
   "source": [
    "import os\n",
    "import sys\n",
    "\n",
    "ROOT_DIR = os.path.abspath(\"__file__\" + \"/../../\")\n",
    "sys.path.insert(0, f\"{ROOT_DIR}\")"
   ]
  },
  {
   "cell_type": "code",
   "execution_count": 9,
   "metadata": {},
   "outputs": [],
   "source": [
    "import seaborn as sns\n",
    "import scipy.stats\n",
    "import matplotlib.pyplot as plt\n",
    "import numpy as np\n",
    "import pandas as pd\n",
    "import tableone\n",
    "import statsmodels"
   ]
  },
  {
   "cell_type": "markdown",
   "metadata": {},
   "source": [
    "## Visualization"
   ]
  },
  {
   "attachments": {},
   "cell_type": "markdown",
   "metadata": {},
   "source": [
    "### Boxplot"
   ]
  },
  {
   "attachments": {},
   "cell_type": "markdown",
   "metadata": {},
   "source": [
    "For the box plot, we can have in the x-axis the theoretical distribution along with the empirical ones and in the y the respective frequencies for the grid coordinates. We can, then, check whether the simualtions overestimate grid coordinated in general or if they follow a more \"smooth\" distibution."
   ]
  },
  {
   "cell_type": "code",
   "execution_count": 5,
   "metadata": {},
   "outputs": [],
   "source": [
    "# Assuming a pd dataframe with three columns distribution type, grid coordinates, frequency/reward and as number of rows 3*number of ccordinates"
   ]
  },
  {
   "cell_type": "code",
   "execution_count": null,
   "metadata": {},
   "outputs": [],
   "source": [
    "sns.boxplot(data=df, x='Distribution', y='Frequency/Reward')\n",
    "plt.title(\"Boxplot\")\n",
    "plt.show()\n",
    "plt.clf()\n"
   ]
  },
  {
   "attachments": {},
   "cell_type": "markdown",
   "metadata": {},
   "source": [
    "### Histrogram"
   ]
  },
  {
   "attachments": {},
   "cell_type": "markdown",
   "metadata": {},
   "source": [
    "The same applies for the histrogram. Three histograms (one for each distribution) one on top of the other where we plot the respective frequencies/rewards for each grid ccordinate."
   ]
  },
  {
   "cell_type": "code",
   "execution_count": null,
   "metadata": {},
   "outputs": [],
   "source": [
    "sns.histplot(data=df, x='Grid Coordinate', hue='Distribution') # Probably it is better to do the relative frequencies.\n",
    "plt.title(\"Histogram\")\n",
    "plt.show()\n",
    "plt.clf()"
   ]
  },
  {
   "attachments": {},
   "cell_type": "markdown",
   "metadata": {},
   "source": [
    "### Kernel Density"
   ]
  },
  {
   "attachments": {},
   "cell_type": "markdown",
   "metadata": {},
   "source": [
    "The same with the histogram but in a continous approximation."
   ]
  },
  {
   "cell_type": "code",
   "execution_count": null,
   "metadata": {},
   "outputs": [],
   "source": [
    "sns.kdeplot(x='Grid Coordinate', data=df, hue='Distribution', common_norm=False)\n",
    "plt.title(\"Kernel Density Function\")\n",
    "plt.show()\n",
    "plt.clf()"
   ]
  },
  {
   "attachments": {},
   "cell_type": "markdown",
   "metadata": {},
   "source": [
    "### Cumulative Distributions"
   ]
  },
  {
   "attachments": {},
   "cell_type": "markdown",
   "metadata": {},
   "source": [
    "The same as in the histogram but for a contunuous cunulative distribution."
   ]
  },
  {
   "cell_type": "code",
   "execution_count": null,
   "metadata": {},
   "outputs": [],
   "source": [
    "sns.histplot(x='Grid Coordinate', data=df, hue='Distribution', bins=len(df), stat=\"density\",\n",
    "             element=\"step\", fill=False, cumulative=True, common_norm=False)\n",
    "plt.title(\"Cumulative distribution function\")\n",
    "plt.show()\n",
    "plt.clf()\n"
   ]
  },
  {
   "attachments": {},
   "cell_type": "markdown",
   "metadata": {},
   "source": [
    "### Q-Q Plot"
   ]
  },
  {
   "attachments": {},
   "cell_type": "markdown",
   "metadata": {},
   "source": [
    "Here we are going to have two plots. One for the GFN with respect to the theoretical one and one with GFN with respect to the theoretical one."
   ]
  },
  {
   "cell_type": "code",
   "execution_count": null,
   "metadata": {},
   "outputs": [],
   "source": [
    "grid_coordinates = df['Grid Coordinate'].values\n",
    "grid_coordinates_theoretical = df.loc[df.Distribution == 'Theoretical', 'Grid Coordinate'].values\n",
    "grid_coordinates_MCMC = df.loc[df.Distribution=='MCMC', 'Grid Coordinate'].values\n",
    "grid_coordinates_GFN = df.loc[df.Distribution=='GFN', 'Grid Coordinate'].values\n",
    "\n",
    "df_pct = pd.DataFrame()\n",
    "df_pct['q_theoretical'] = np.percentile(grid_coordinates_theoretical, range(100))\n",
    "df_pct['q_MCMC'] = np.percentile(grid_coordinates_MCMC, range(100))\n",
    "df_pct['q_GFN'] = np.percentile(grid_coordinates_GFN, range(100))"
   ]
  },
  {
   "cell_type": "code",
   "execution_count": null,
   "metadata": {},
   "outputs": [],
   "source": [
    "fig, axs = plt.subplots(nrows=1, ncols=2, figsize=(9, 6), subplot_kw={'xticks': [], 'yticks': []})\n",
    "\n",
    "axs[0].scatter(x='q_theoretical', y='q_MCMC', data=df_pct, label='MCMC')\n",
    "sns.lineplot(ax=axs[0], x='q_theoretical', y='q_theoretical', data=df_pct, color='r', label='Line of perfect fit')\n",
    "axs[0].set_title(\"MCMC\")\n",
    "axs[1].scatter(x='q_theoretical', y='q_GFN', data=df_pct, label='GFN')\n",
    "sns.lineplot(ax=axs[1], x='q_theoretical', y='q_theoretical', data=df_pct, color='r', label='Line of perfect fit')\n",
    "axs[1].set_title(\"GFN\")\n",
    "\n",
    "plt.tight_layout()\n",
    "plt.show()\n",
    "plt.clf()\n"
   ]
  },
  {
   "attachments": {},
   "cell_type": "markdown",
   "metadata": {},
   "source": [
    "## Quantitative Analysis"
   ]
  },
  {
   "attachments": {},
   "cell_type": "markdown",
   "metadata": {},
   "source": [
    "For this part there are two ideas. One is to just compute the respective numbers fo the final cases of the empirical dsitributions. The other is (just for the GFN case), if we have data for each iteration (or batch of iterations) to plot the respective number for each iteration (batch)."
   ]
  },
  {
   "cell_type": "code",
   "execution_count": 6,
   "metadata": {},
   "outputs": [],
   "source": [
    "# Assuming that we have mulitple dataframes: the final states (which is he same as in the previous section) and some for the intermediate states."
   ]
  },
  {
   "attachments": {},
   "cell_type": "markdown",
   "metadata": {},
   "source": [
    "### T-test / Welch's t-test"
   ]
  },
  {
   "cell_type": "code",
   "execution_count": null,
   "metadata": {},
   "outputs": [],
   "source": [
    "if np.var(grid_coordinates_theoretical)/np.var(grid_coordinates_MCMC) < 4 or np.var(grid_coordinates_MCMC)/np.var(grid_coordinates_theoretical) < 4:\n",
    "    equal_var_MCMC = True\n",
    "else:\n",
    "    equal_var_MCMC = False\n",
    "\n",
    "stat_MCMC, p_value_MCMC = scipy.stats.ttest_ind(grid_coordinates_MCMC, grid_coordinates_theoretical, equal_var = equal_var_GFN )\n",
    "print(f\"t-test for the MCMC: statistic={stat_GFN:.4f}, p-value={p_value_MCMC:.4f}\")\n",
    "\n",
    "if np.var(grid_coordinates_theoretical)/np.var(grid_coordinates_GFN) < 4 or np.var(grid_coordinates_GFN)/np.var(grid_coordinates_theoretical) < 4:\n",
    "    equal_var_GFN = True\n",
    "else:\n",
    "    equal_var_GFN = False\n",
    "\n",
    "\n",
    "stat_GFN, p_value_GFN = scipy.stats.ttest_ind(grid_coordinates_GFN, grid_coordinates_theoretical, equal_var =equal_var_GFN)\n",
    "print(f\"t-test for the GFN: statistic={stat_GFN:.4f}, p-value={p_value_GFN:.4f}\")"
   ]
  },
  {
   "cell_type": "code",
   "execution_count": null,
   "metadata": {},
   "outputs": [],
   "source": [
    "# For the intermediate states:\n",
    "data = []\n",
    "batch = 1\n",
    "for file in :\n",
    "    df = pd.read_csv(file, delimiter=',')\n",
    "    grid_coordianates_batch = df['Grid Coordinate'].values\n",
    "    grid_coordinates_theoretical_batch = df.loc[df.Distribution == 'Theoretical', 'Grid Coordinate'].values\n",
    "    grid_coordinates_GFN_batch = df.loc[df.Distribution=='GFN', 'Grid Coordinate'].values\n",
    "\n",
    "    if np.var(grid_coordinates_theoretical_batch)/np.var(grid_coordinates_GFN_batch) > 4 or np.var(grid_coordinates_GFN_batch)/np.var(grid_coordinates_theoretical_batch) > 4:\n",
    "        equal_var_GFN_batch = False\n",
    "    else:\n",
    "        equal_var_GFN_batch = True\n",
    "\n",
    "    stat_GFN_batch, p_value_GFN_batch = scipy.stats.ttest_ind(grid_coordinates_GFN_batch, grid_coordinates_theoretical_batch, equal_var = equal_var_GFN_batch)\n",
    "    data.append([batch, p_value_GFN])\n",
    "    batch += 1\n",
    "\n",
    "plt.plot(data=data, label=\"t-test for everyt batch of the GFN\")\n",
    "plt.show()\n",
    "plt.clf()"
   ]
  },
  {
   "attachments": {},
   "cell_type": "markdown",
   "metadata": {},
   "source": [
    "### Standardized Mean Difference"
   ]
  },
  {
   "cell_type": "code",
   "execution_count": null,
   "metadata": {},
   "outputs": [],
   "source": [
    "# The one in the website is up to python 3.9, so I used another one, where the documentation is not htat good. I will fo the rest of the plots after we get the data.\n",
    "df_MCMC = df.drop(df[df['Distribution'] == \"GFN\"].index, inplace = True)\n",
    "table_one_MCMC = tableone.TableOne(df_MCMC)\n",
    "print(df_MCMC.tabulate(tablefmt=\"github\"))\n",
    "\n",
    "df_GFN = df.drop(df[df['Distribution'] == \"MCMC\"].index, inplace = True)\n",
    "table_one_GFN = tableone.TableOne(df_GFN)\n",
    "print(df_GFN.tabulate(tablefmt=\"github\"))"
   ]
  },
  {
   "attachments": {},
   "cell_type": "markdown",
   "metadata": {},
   "source": [
    "### Mann–Whitney U Test / Brunner-Munzel test"
   ]
  },
  {
   "cell_type": "code",
   "execution_count": null,
   "metadata": {},
   "outputs": [],
   "source": [
    "if equal_var_MCMC:\n",
    "    stat_MCMC, p_value_MCMC = scipy.stats.mannwhitneyu(grid_coordinates_MCMC, grid_coordinates_theoretical)\n",
    "    print(f\" Mann–Whitney U Test: statistic={stat_MCMC:.4f}, p-value={p_value_MCMC:.4f}\")\n",
    "else:\n",
    "    stat_MCMC, p_value_MCMC = scipy.stats.brunnermunzel(grid_coordinates_MCMC, grid_coordinates_theoretical)\n",
    "    print(f\"  Brunner-Munzel test: statistic={stat_MCMC:.4f}, p-value={p_value_MCMC:.4f}\")\n",
    "\n",
    "if equal_var_GFN:\n",
    "    stat_GFN, p_value_GFN = scipy.stats.mannwhitneyu(grid_coordinates_GFN, grid_coordinates_theoretical)\n",
    "    print(f\" Mann–Whitney U Test: statistic={stat_GFN:.4f}, p-value={p_value_GFN:.4f}\")\n",
    "else:\n",
    "    stat_GFN, p_value_GFN = scipy.stats.brunnermunzel(grid_coordinates_GFN, grid_coordinates_theoretical)\n",
    "    print(f\"  Brunner-Munzel test: statistic={stat_GFN:.4f}, p-value={p_value_GFN:.4f}\")"
   ]
  },
  {
   "cell_type": "code",
   "execution_count": null,
   "metadata": {},
   "outputs": [],
   "source": [
    "# For the intermediate states:\n",
    "data = []\n",
    "batch = 1\n",
    "for file in :\n",
    "    df = pd.read_csv(file, delimiter=',')\n",
    "    grid_coordianates_batch = df['Grid Coordinate'].values\n",
    "    grid_coordinates_theoretical_batch = df.loc[df.Distribution == 'Theoretical', 'Grid Coordinate'].values\n",
    "    grid_coordinates_GFN_batch = df.loc[df.Distribution=='GFN', 'Grid Coordinate'].values\n",
    "\n",
    "    if np.var(grid_coordinates_theoretical_batch)/np.var(grid_coordinates_GFN_batch) > 4 or np.var(grid_coordinates_GFN_batch)/np.var(grid_coordinates_theoretical_batch) > 4:\n",
    "        equal_var_GFN_batch = False\n",
    "    else:\n",
    "        equal_var_GFN_batch = True\n",
    "\n",
    "    if equal_var_GFN:\n",
    "        stat_GFN, p_value_GFN = scipy.stats.mannwhitneyu(grid_coordinates_GFN_batch, grid_coordinates_theoretical)\n",
    "        label = \"Mann–Whitney U Test for each batch of the GFN\"\n",
    "    else:\n",
    "        stat_GFN, p_value_GFN = scipy.stats.brunnermunzel(grid_coordinates_GFN_batch, grid_coordinates_theoretical)\n",
    "        label = \"Brunner-Munzel test for each batch of the GFN\"\n",
    "    data.append([batch, p_value_GFN])\n",
    "    batch += 1\n",
    "\n",
    "plt.plot(data=data, label=label)\n",
    "plt.show()\n",
    "plt.clf()"
   ]
  },
  {
   "attachments": {},
   "cell_type": "markdown",
   "metadata": {},
   "source": [
    "### Permutation Tests"
   ]
  },
  {
   "cell_type": "code",
   "execution_count": null,
   "metadata": {},
   "outputs": [],
   "source": [
    "sample_stat_MCMC = np.mean(grid_coordinates_MCMC) - np.mean(grid_coordinates_theoretical)\n",
    "\n",
    "stats = np.zeros(df.shape[0])\n",
    "\n",
    "for k in range(df.shape[0]):\n",
    "    labels = np.random.permutation((df['Distribution'] == 'MCMC').values)\n",
    "    stats[k] = np.mean(grid_coordinates[labels]) - np.mean(grid_coordinates[labels==False])\n",
    "p_value = np.mean(stats > sample_stat_MCMC)\n",
    "\n",
    "print(f\"Permutation test for MCMC: p-value={p_value:.4f}\")"
   ]
  },
  {
   "cell_type": "code",
   "execution_count": null,
   "metadata": {},
   "outputs": [],
   "source": [
    "plt.hist(stats, label='Permutation Statistics', bins=30)\n",
    "plt.axvline(x=sample_stat_MCMC, c='r', ls='--', label='Sample Statistic')\n",
    "plt.legend()\n",
    "plt.xlabel('Income difference between MCMC and theoretical distribution')\n",
    "plt.title('Permutation Test')\n",
    "plt.show()\n",
    "plt.clf()"
   ]
  },
  {
   "cell_type": "code",
   "execution_count": null,
   "metadata": {},
   "outputs": [],
   "source": [
    "sample_stat_GFN = np.mean(grid_coordinates_GFN) - np.mean(grid_coordinates_theoretical)\n",
    "\n",
    "stats = np.zeros(df.shape[0])\n",
    "\n",
    "for k in range(df.shape[0]):\n",
    "    labels = np.random.permutation((df['Distribution'] == 'GFN').values)\n",
    "    stats[k] = np.mean(grid_coordinates[labels]) - np.mean(grid_coordinates[labels==False])\n",
    "p_value = np.mean(stats > sample_stat_MCMC)\n",
    "\n",
    "print(f\"Permutation test for GFN: p-value={p_value:.4f}\")"
   ]
  },
  {
   "cell_type": "code",
   "execution_count": null,
   "metadata": {},
   "outputs": [],
   "source": [
    "plt.hist(stats, label='Permutation Statistics', bins=30);\n",
    "plt.axvline(x=sample_stat_GFN, c='r', ls='--', label='Sample Statistic')\n",
    "plt.legend()\n",
    "plt.xlabel('Income difference between GFN and theoretical distribution')\n",
    "plt.title('Permutation Test')\n",
    "plt.show()\n",
    "plt.clf()"
   ]
  },
  {
   "attachments": {},
   "cell_type": "markdown",
   "metadata": {},
   "source": [
    "### Chi-Squared Test"
   ]
  },
  {
   "cell_type": "code",
   "execution_count": null,
   "metadata": {},
   "outputs": [],
   "source": [
    "# Init dataframe\n",
    "df_bins_MCMC = pd.DataFrame()\n",
    "\n",
    "# Generate bins from control group\n",
    "_, bins_MCMC = pd.qcut(grid_coordinates_theoretical, q=10, retbins=True)\n",
    "df_bins_MCMC['bin'] = pd.cut(grid_coordinates_MCMC, bins=bins_MCMC).value_counts().index\n",
    "\n",
    "# Apply bins to both groups\n",
    "df_bins_MCMC['grid_coordinates_observed'] = pd.cut(grid_coordinates_theoretical, bins=bins_MCMC).value_counts().values\n",
    "df_bins_MCMC['grid_coordinates_MCMC_observed'] = pd.cut(grid_coordinates_MCMC, bins=bins_MCMC).value_counts().values\n",
    "\n",
    "# Compute expected frequency in the treatment group\n",
    "df_bins_MCMC['grid_coordinates_MCMC_expected'] = df_bins_MCMC['grid_coordinates_observed'] / np.sum(df_bins_MCMC['grid_coordinates_observed']) * np.sum(df_bins_MCMC['grid_coordinates_MCMC_observed'])\n",
    "\n",
    "df_bins_MCMC\n",
    "\n",
    "stat_MCMC, p_value_MCMC = scipy.stats.chisquare(df_bins_MCMC['grid_coordinates_MCMC_observed'], df_bins['grid_coordinates_MCMC_expected'])\n",
    "print(f\"Chi-squared Test: statistic={stat_MCMC:.4f}, p-value={p_value_MCMC:.4f}\")"
   ]
  },
  {
   "cell_type": "code",
   "execution_count": null,
   "metadata": {},
   "outputs": [],
   "source": [
    "# Init dataframe\n",
    "df_bins_GFN = pd.DataFrame()\n",
    "\n",
    "# Generate bins from control group\n",
    "_, bins_GFN = pd.qcut(grid_coordinates_theoretical, q=10, retbins=True)\n",
    "df_bins_GFN['bin'] = pd.cut(grid_coordinates_GFN, bins=bins_GFN).value_counts().index\n",
    "\n",
    "# Apply bins to both groups\n",
    "df_bins_GFN['grid_coordinates_observed'] = pd.cut(grid_coordinates_theoretical, bins=bins_GFN).value_counts().values\n",
    "df_bins_GFN['grid_coordinates_GFN_observed'] = pd.cut(grid_coordinates_GFN, bins=bins_GFN).value_counts().values\n",
    "\n",
    "# Compute expected frequency in the treatment group\n",
    "df_bins_GFN['grid_coordinates_GFN_expected'] = df_bins_GFN['grid_coordinates_observed'] / np.sum(df_bins_GFN['grid_coordinates_observed']) * np.sum(df_bins_GFN['grid_coordinates_GFN_observed'])\n",
    "\n",
    "df_bins_GFN\n",
    "\n",
    "stat_GFN, p_value_GFN = scipy.stats.chisquare(df_bins_GFN['grid_coordinates_GFN_observed'], df_bins_GFN['grid_coordinates_GFN_expected'])\n",
    "print(f\"Chi-squared Test: statistic={stat_GFN:.4f}, p-value={p_value_GFN:.4f}\")"
   ]
  },
  {
   "attachments": {},
   "cell_type": "markdown",
   "metadata": {},
   "source": [
    "### Kolmogorov-Smirnov Test"
   ]
  },
  {
   "cell_type": "code",
   "execution_count": null,
   "metadata": {},
   "outputs": [],
   "source": [
    "df_ks_MCMC = pd.DataFrame()\n",
    "df_ks_MCMC['Distribution'] = np.sort(df['Distribution'].unique())\n",
    "df_ks_MCMC['F_theoretical'] = df_ks_MCMC['Distribution'].apply(lambda x: np.mean(grid_coordinates_theoretical<=x))\n",
    "df_ks_MCMC['F_MCMC'] = df_ks_MCMC['Distribution'].apply(lambda x: np.mean(grid_coordinates_MCMC<=x))\n",
    "df_ks_MCMC.head()"
   ]
  },
  {
   "cell_type": "code",
   "execution_count": null,
   "metadata": {},
   "outputs": [],
   "source": [
    "# Point where the absolute distance between the cumulative distribution functions is largest.\n",
    "k_MCMC = np.argmax( np.abs(df_ks_MCMC['F_theoretical'] - df_ks_MCMC['F_MCMC']))\n",
    "ks_stat_MCMC = np.abs(df_ks_MCMC['F_MCMC'][k_MCMC] - df_ks_MCMC['F_theoretical'][k_MCMC])"
   ]
  },
  {
   "cell_type": "code",
   "execution_count": null,
   "metadata": {},
   "outputs": [],
   "source": [
    "y_MCMC = (df_ks_MCMC['F_MCMC'][k_MCMC] + df_ks_MCMC['F_theoretical'][k_MCMC])/2\n",
    "plt.plot('Distribution', 'F_theoretical', data=df_ks_MCMC, label='Theoretical')\n",
    "plt.plot('Distribution', 'F_MCMC', data=df_ks_MCMC, label='MCMC')\n",
    "plt.errorbar(x=df_ks_MCMC['Income'][k_MCMC], y=y_MCMC, yerr=ks_stat_MCMC/2, color='k',\n",
    "             capsize=5, mew=3, label=f\"Test statistic: {ks_stat_MCMC:.4f}\")\n",
    "plt.legend(loc='center right')\n",
    "plt.title(\"Kolmogorov-Smirnov Test for MCMC\")"
   ]
  },
  {
   "cell_type": "code",
   "execution_count": null,
   "metadata": {},
   "outputs": [],
   "source": [
    "stat_MCMC, p_value_MCMC = scipy.stats.kstest(grid_coordinates_MCMC, grid_coordinates_theoretical)\n",
    "print(f\" Kolmogorov-Smirnov Test for MCMC: statistic={stat_MCMC:.4f}, p-value={p_value_MCMC:.4f}\")"
   ]
  },
  {
   "cell_type": "code",
   "execution_count": null,
   "metadata": {},
   "outputs": [],
   "source": [
    "df_ks_GFN = pd.DataFrame()\n",
    "df_ks_GFN['Distribution'] = np.sort(df['Distribution'].unique())\n",
    "df_ks_GFN['F_theoretical'] = df_ks_GFN['Distribution'].apply(lambda x: np.mean(grid_coordinates_theoretical<=x))\n",
    "df_ks_GFN['F_GFN'] = df_ks_GFN['Distribution'].apply(lambda x: np.mean(grid_coordinates_GFN<=x))\n",
    "df_ks_GFN.head()"
   ]
  },
  {
   "cell_type": "code",
   "execution_count": null,
   "metadata": {},
   "outputs": [],
   "source": [
    "# Point where the absolute distance between the cumulative distribution functions is largest.\n",
    "k_GFN = np.argmax( np.abs(df_ks_GFN['F_theoretical'] - df_ks_GFN['F_GFN']))\n",
    "ks_stat_GFN = np.abs(df_ks_GFN['F_GFN'][k_GFN] - df_ks_GFN['F_theoretical'][k_GFN])"
   ]
  },
  {
   "cell_type": "code",
   "execution_count": null,
   "metadata": {},
   "outputs": [],
   "source": [
    "y_GFN = (df_ks_GFN['F_GFN'][k_GFN] + df_ks_GFN['F_theoretical'][k_GFN])/2\n",
    "plt.plot('Distribution', 'F_theoretical', data=df_ks_GFN, label='Theoretical')\n",
    "plt.plot('Distribution', 'F_GFN', data=df_ks_GFN, label='GFN')\n",
    "plt.errorbar(x=df_ks_GFN['Distribution'][k_GFN], y=y_GFN, yerr=ks_stat_GFN/2, color='k',\n",
    "             capsize=5, mew=3, label=f\"Test statistic: {ks_stat_GFN:.4f}\")\n",
    "plt.legend(loc='center right')\n",
    "plt.title(\"Kolmogorov-Smirnov Test for GFN\")"
   ]
  },
  {
   "cell_type": "code",
   "execution_count": null,
   "metadata": {},
   "outputs": [],
   "source": [
    "stat_GFN, p_value_GFN = scipy.stats.kstest(grid_coordinates_GFN, grid_coordinates_theoretical)\n",
    "print(f\" Kolmogorov-Smirnov Test for MCMC: statistic={stat_GFN:.4f}, p-value={p_value_GFN:.4f}\")"
   ]
  },
  {
   "attachments": {},
   "cell_type": "markdown",
   "metadata": {},
   "source": [
    "# Lilliefors test "
   ]
  },
  {
   "cell_type": "code",
   "execution_count": null,
   "metadata": {},
   "outputs": [],
   "source": [
    "stat_MCMC, p_value_MCMC = statsmodels.stats.diagnostic.lilliefors(grid_coordinates_MCMC, dist=\"norm\")\n",
    "print(f\" Lilliefors Test for MCMC: statistic={stat_MCMC:.4f}, p-value={p_value_MCMC:.4f}\")"
   ]
  },
  {
   "cell_type": "code",
   "execution_count": null,
   "metadata": {},
   "outputs": [],
   "source": [
    "stat_GFN, p_value_GFN = statsmodels.stats.diagnostic.lilliefors(grid_coordinates_GFN, dist=\"norm\")\n",
    "print(f\" Lilliefors Test GFN: statistic={stat_GFN:.4f}, p-value={p_value_GFN:.4f}\")"
   ]
  },
  {
   "attachments": {},
   "cell_type": "markdown",
   "metadata": {},
   "source": [
    " # Anderson-Darling test"
   ]
  },
  {
   "cell_type": "code",
   "execution_count": null,
   "metadata": {},
   "outputs": [],
   "source": [
    "stat_MCMC, p_value_MCMC = scipy.stats.anderson(grid_coordinates_MCMC, dist=\"norm\")\n",
    "print(f\" Anderson-Darling Test for MCMC: statistic={stat_MCMC:.4f}, p-value={p_value_MCMC:.4f}\")"
   ]
  },
  {
   "cell_type": "code",
   "execution_count": null,
   "metadata": {},
   "outputs": [],
   "source": [
    "stat_GFN, p_value_GFN = scipy.stats.anderson(grid_coordinates_GFN, dist=\"norm\")\n",
    "print(f\" Anderson-Darling Test GFN: statistic={stat_GFN:.4f}, p-value={p_value_GFN:.4f}\")"
   ]
  },
  {
   "attachments": {},
   "cell_type": "markdown",
   "metadata": {},
   "source": [
    "# Cramér-von Mises test"
   ]
  },
  {
   "cell_type": "code",
   "execution_count": null,
   "metadata": {},
   "outputs": [],
   "source": [
    "stat_MCMC, p_value_MCMC = scipy.stats.cramervonmises(grid_coordinates_MCMC, grid_coordinates_theoretical)\n",
    "print(f\" Cramér-von Mises Test for MCMC: statistic={stat_MCMC:.4f}, p-value={p_value_MCMC:.4f}\")"
   ]
  },
  {
   "cell_type": "code",
   "execution_count": null,
   "metadata": {},
   "outputs": [],
   "source": [
    "stat_GFN, p_value_GFN = scipy.stats.cramervonmises(grid_coordinates_GFN, grid_coordinates_theoretical)\n",
    "print(f\" Cramér-von Mises Test for GFN: statistic={stat_GFN:.4f}, p-value={p_value_GFN:.4f}\")"
   ]
  }
 ],
 "metadata": {
  "kernelspec": {
   "display_name": "gfn_spinfoams",
   "language": "python",
   "name": "python3"
  },
  "language_info": {
   "codemirror_mode": {
    "name": "ipython",
    "version": 3
   },
   "file_extension": ".py",
   "mimetype": "text/x-python",
   "name": "python",
   "nbconvert_exporter": "python",
   "pygments_lexer": "ipython3",
   "version": "3.10.11"
  },
  "orig_nbformat": 4,
  "vscode": {
   "interpreter": {
    "hash": "0a7e2e70a8e36dd0a482639dee9e7ac5dea7b92be2a30c77fce633d16076821e"
   }
  }
 },
 "nbformat": 4,
 "nbformat_minor": 2
}
