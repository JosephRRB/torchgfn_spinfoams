{
 "cells": [
  {
   "cell_type": "code",
   "execution_count": 1,
   "metadata": {},
   "outputs": [],
   "source": [
    "import os\n",
    "import sys\n",
    "import numpy as np\n",
    "import matplotlib.pyplot as plt\n",
    "import itertools as it\n",
    "import tqdm\n",
    "import pandas as pd"
   ]
  },
  {
   "cell_type": "code",
   "execution_count": 2,
   "metadata": {},
   "outputs": [],
   "source": [
    "ROOT_DIR = os.path.abspath(\"__file__\" + \"/../../\")\n",
    "sys.path.insert(0, f\"{ROOT_DIR}\")"
   ]
  },
  {
   "cell_type": "code",
   "execution_count": 3,
   "metadata": {},
   "outputs": [],
   "source": [
    "spin_j = 3\n",
    "env_name = f\"single vertex spinfoam/j={float(spin_j)}\"\n",
    "\n",
    "mcmc_chains = np.load(f\"{ROOT_DIR}/data/MCMC/{env_name}/mcmc_chains.npy\")\n",
    "# mcmc_masks = np.load(f\"{ROOT_DIR}/data/MCMC/{env_name}/acceptance_masks.npy\")\n",
    "# gfn_states = np.load(f\"{ROOT_DIR}/data/GFN/{env_name}/terminal_states.npy\")"
   ]
  },
  {
   "cell_type": "code",
   "execution_count": 4,
   "metadata": {},
   "outputs": [],
   "source": [
    "def get_distributions_over_time(grid_positions, grid_len, every_n_iterations=100, masks=None):\n",
    "    n_iterations, _, grid_dim = grid_positions.shape\n",
    "\n",
    "    counts = np.zeros(shape=(grid_len, )*grid_dim)\n",
    "    n_samples = 0\n",
    "    empirical_distributions_over_time = []\n",
    "    n_samples_used_over_time = []\n",
    "    for i in range(0, n_iterations, every_n_iterations):\n",
    "        if masks is not None:\n",
    "            selected_positions = [\n",
    "                pos[mask] for pos, mask in zip(\n",
    "                    grid_positions[i:i+every_n_iterations], masks[i:i+every_n_iterations]\n",
    "                )\n",
    "            ]\n",
    "        else:\n",
    "            selected_positions = grid_positions[i:i+every_n_iterations]\n",
    "            \n",
    "        states = np.concatenate(selected_positions)\n",
    "\n",
    "        n_samples += states.shape[0]\n",
    "        np.add.at(counts, tuple(states.T), 1)\n",
    "        \n",
    "        empirical_distributions_over_time.append(counts/n_samples)\n",
    "        n_samples_used_over_time.append(n_samples)\n",
    "    empirical_distributions_over_time = np.stack(empirical_distributions_over_time)\n",
    "    return empirical_distributions_over_time, n_samples_used_over_time\n",
    "\n",
    "def get_distributions_coordinates_over_time(grid_len, distributions_over_time, iteration = -1):\n",
    "    result = []\n",
    "    if len(distributions_over_time.shape) == 6:\n",
    "        for dist in tqdm.tqdm(distributions_over_time, total=distributions_over_time.shape[0]):\n",
    "            s = (grid_len for _ in range(grid_len))\n",
    "            data = np.array(\n",
    "                    list(np.ndindex(*s))\n",
    "                )\n",
    "            data = np.apply_along_axis(lambda x: (x[0], x[1], x[2], x[3], x[4], dist[x[0], x[1], x[2], x[3], x[4]]), 1, data)\n",
    "            result.append(data)\n",
    "        # distributions.append([i1, i2, i3, i4, i5, distributions_over_time[iteration, i1, i2, i3, i4, i5]])\n",
    "    elif len(distributions_over_time.shape) == 5:\n",
    "        ...\n",
    "        # distributions.append([i1, i2, i3, i4, i5, distributions_over_time[i1, i2, i3, i4, i5]])\n",
    "\n",
    "    return np.stack(data, axis=1)"
   ]
  },
  {
   "cell_type": "code",
   "execution_count": 5,
   "metadata": {},
   "outputs": [],
   "source": [
    "grid_len = int(2*spin_j + 1)\n",
    "\n",
    "mcmc_distributions_over_time, mcmc_n_t = get_distributions_over_time(\n",
    "    mcmc_chains, grid_len, every_n_iterations=10000, \n",
    "#     masks=mcmc_masks\n",
    ")\n",
    "# gfn_distributions_over_time, gfn_n_t = get_distributions_over_time(\n",
    "#     gfn_states, grid_len, every_n_iterations=100\n",
    "# )"
   ]
  },
  {
   "cell_type": "code",
   "execution_count": 6,
   "metadata": {},
   "outputs": [
    {
     "name": "stderr",
     "output_type": "stream",
     "text": [
      "100%|██████████| 10/10 [00:54<00:00,  5.42s/it]\n"
     ]
    }
   ],
   "source": [
    "# Create a 2D array of the grid coordinates and the respective rewards, flattened.\n",
    "# gfn = get_distributions_coordinates_over_time(grid_len, gfn_distributions_over_time)\n",
    "\n",
    "mcmc = get_distributions_coordinates_over_time(grid_len, mcmc_distributions_over_time)"
   ]
  },
  {
   "cell_type": "code",
   "execution_count": 7,
   "metadata": {},
   "outputs": [
    {
     "data": {
      "text/plain": [
       "(6, 823543)"
      ]
     },
     "execution_count": 7,
     "metadata": {},
     "output_type": "execute_result"
    }
   ],
   "source": [
    "mcmc.shape"
   ]
  },
  {
   "cell_type": "code",
   "execution_count": 8,
   "metadata": {},
   "outputs": [],
   "source": [
    "grid_len = 8\n",
    "s = (grid_len for _ in range(grid_len))\n",
    "df = np.array(\n",
    "        list(np.ndindex(*s))\n",
    "    )\n",
    "# .reshape(*s, -1)"
   ]
  }
 ],
 "metadata": {
  "kernelspec": {
   "display_name": "torchgfn",
   "language": "python",
   "name": "python3"
  },
  "language_info": {
   "codemirror_mode": {
    "name": "ipython",
    "version": 3
   },
   "file_extension": ".py",
   "mimetype": "text/x-python",
   "name": "python",
   "nbconvert_exporter": "python",
   "pygments_lexer": "ipython3",
   "version": "3.11.4"
  },
  "orig_nbformat": 4
 },
 "nbformat": 4,
 "nbformat_minor": 2
}
