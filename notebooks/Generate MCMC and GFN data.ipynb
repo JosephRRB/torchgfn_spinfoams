{
 "cells": [
  {
   "cell_type": "code",
   "execution_count": 1,
   "id": "99314b82",
   "metadata": {},
   "outputs": [],
   "source": [
    "import os\n",
    "import sys\n",
    "\n",
    "ROOT_DIR = os.path.abspath(\"__file__\" + \"/../../\")\n",
    "sys.path.insert(0, f\"{ROOT_DIR}\")"
   ]
  },
  {
   "cell_type": "markdown",
   "id": "a587f458",
   "metadata": {},
   "source": [
    "# Single Vertex Spinfoam"
   ]
  },
  {
   "cell_type": "code",
   "execution_count": 2,
   "id": "0c918dbd",
   "metadata": {},
   "outputs": [],
   "source": [
    "import numpy as np\n",
    "\n",
    "gridLength = 8\n",
    "spin_j = (gridLength - 1) / 2\n",
    "env_name = f\"single vertex spinfoam/j={float(spin_j)}\"\n",
    "evaluate_after_n_states = int(1e5)\n",
    "\n",
    "def get_rewards_for_single_vertex_spinfoam(gridLength, root=ROOT_DIR):\n",
    "    spin_j = (gridLength - 1) / 2\n",
    "\n",
    "    vertex = np.load(f\"{root}/data/EPRL_vertices/Python/Dl_20/vertex_j_{float(spin_j)}.npz\")\n",
    "    sq_ampl = vertex**2\n",
    "    return sq_ampl / np.sum(sq_ampl)\n",
    "\n",
    "rewards = get_rewards_for_single_vertex_spinfoam(gridLength)"
   ]
  },
  {
   "cell_type": "code",
   "execution_count": 3,
   "id": "4ed906cc",
   "metadata": {},
   "outputs": [
    {
     "name": "stderr",
     "output_type": "stream",
     "text": [
      "  0%|                                                                                                                                              | 0/1000 [00:00<?, ?it/s]/home/josephb/anaconda3/envs/gfn/lib/python3.11/site-packages/torch/autograd/__init__.py:200: UserWarning: CUDA initialization: CUDA unknown error - this may be due to an incorrectly set up environment, e.g. changing env variable CUDA_VISIBLE_DEVICES after program start. Setting the available devices to be zero. (Triggered internally at ../c10/cuda/CUDAFunctions.cpp:109.)\n",
      "  Variable._execution_engine.run_backward(  # Calls into the C++ engine to run the backward pass\n",
      "100%|████████████████████████████████████████████████████████████████████████████████████████████████████████████████████████| 1000/1000 [04:49<00:00,  3.46it/s, loss=1.36]\n"
     ]
    }
   ],
   "source": [
    "from src.grid_environments.base import BaseGrid\n",
    "from src.trainers.trainer import base_train_gfn\n",
    "\n",
    "generated_data_dir = f\"{ROOT_DIR}/data/GFN/{env_name}\"\n",
    "\n",
    "losses = base_train_gfn(\n",
    "    BaseGrid(grid_rewards=rewards),\n",
    "    generated_data_dir,\n",
    "    hidden_dim=256,\n",
    "    n_hidden_layers=2,\n",
    "    activation_fn=\"relu\",\n",
    "    exploration_rate=0.5,\n",
    "    learning_rate=0.0005,\n",
    "    batch_size=int(1e3),\n",
    "    n_iterations=int(1e3),\n",
    "    evaluation_batch_size=int(1e5),\n",
    "    generate_samples_every_m_training_samples=evaluate_after_n_states,\n",
    ")"
   ]
  },
  {
   "cell_type": "code",
   "execution_count": 4,
   "id": "10d41726",
   "metadata": {},
   "outputs": [],
   "source": [
    "from src.MCMC.MCMC import VertexMCMC\n",
    "\n",
    "iterationsNumber = int(1e6)\n",
    "batchSize = evaluate_after_n_states\n",
    "burnFactor = 0\n",
    "deviation = 0.8\n",
    "dimensions = 5\n",
    "\n",
    "verbosity = 1\n",
    "\n",
    "drawsFolder = f\"{ROOT_DIR}/data/MCMC/{env_name}\"\n",
    "os.makedirs(drawsFolder, exist_ok=True)\n",
    "\n",
    "VertexMCMC(\n",
    "    gridLength = gridLength, iterationsNumber = iterationsNumber, batchSize = batchSize, \n",
    "    deviation = deviation, burnFactor = burnFactor, verbosity = verbosity, \n",
    "    drawsFolder = drawsFolder, mean = 0., rewardFunction=get_rewards_for_single_vertex_spinfoam, \n",
    "    dimensions=dimensions \n",
    ")"
   ]
  },
  {
   "cell_type": "markdown",
   "id": "df80ac01",
   "metadata": {},
   "source": [
    "# Grid Peaks from GFN Paper"
   ]
  },
  {
   "cell_type": "code",
   "execution_count": 5,
   "id": "e84886ad",
   "metadata": {},
   "outputs": [],
   "source": [
    "from src.MCMC.MCMC import grid_rewards_2d\n",
    "\n",
    "gridLength = 13\n",
    "dimensions = 2\n",
    "env_name = f\"GFN Paper Grid Peaks/grid_length={gridLength}, grid_dim={dimensions}\"\n",
    "evaluate_after_n_states = int(1e5)\n",
    "\n",
    "gfn_paper_rewards = grid_rewards_2d(gridLength)"
   ]
  },
  {
   "cell_type": "code",
   "execution_count": null,
   "id": "2243d1c7",
   "metadata": {},
   "outputs": [
    {
     "name": "stderr",
     "output_type": "stream",
     "text": [
      " 41%|████████████████████████████████████████████████▋                                                                     | 413/1000 [01:22<01:24,  6.95it/s, loss=0.00172]"
     ]
    }
   ],
   "source": [
    "generated_data_dir = f\"{ROOT_DIR}/data/GFN/{env_name}\"\n",
    "\n",
    "losses = base_train_gfn(\n",
    "    BaseGrid(grid_rewards=gfn_paper_rewards),\n",
    "    generated_data_dir,\n",
    "    hidden_dim=256,\n",
    "    n_hidden_layers=2,\n",
    "    activation_fn=\"relu\",\n",
    "    exploration_rate=0.5,\n",
    "    learning_rate=0.0005,\n",
    "    batch_size=int(1e3),\n",
    "    n_iterations=int(1e3),\n",
    "    evaluation_batch_size=int(1e5),\n",
    "    generate_samples_every_m_training_samples=evaluate_after_n_states,\n",
    ")"
   ]
  },
  {
   "cell_type": "code",
   "execution_count": null,
   "id": "82c5112d",
   "metadata": {},
   "outputs": [],
   "source": [
    "iterationsNumber = int(1e6)\n",
    "batchSize = evaluate_after_n_states\n",
    "burnFactor = 0\n",
    "deviation = 0.8\n",
    "\n",
    "verbosity = 1\n",
    "\n",
    "drawsFolder = f\"{ROOT_DIR}/data/MCMC/{env_name}\"\n",
    "os.makedirs(drawsFolder, exist_ok=True)\n",
    "\n",
    "VertexMCMC(\n",
    "    gridLength = gridLength, iterationsNumber = iterationsNumber, batchSize = batchSize, \n",
    "    deviation = deviation, burnFactor = burnFactor, verbosity = verbosity, \n",
    "    drawsFolder = drawsFolder, mean = 0., rewardFunction=grid_rewards_2d, \n",
    "    dimensions=dimensions \n",
    ")"
   ]
  },
  {
   "cell_type": "code",
   "execution_count": null,
   "id": "a3410e5a",
   "metadata": {},
   "outputs": [],
   "source": []
  },
  {
   "cell_type": "code",
   "execution_count": null,
   "id": "bd61fef7",
   "metadata": {},
   "outputs": [],
   "source": []
  }
 ],
 "metadata": {
  "kernelspec": {
   "display_name": "Python [conda env:gfn] *",
   "language": "python",
   "name": "conda-env-gfn-py"
  },
  "language_info": {
   "codemirror_mode": {
    "name": "ipython",
    "version": 3
   },
   "file_extension": ".py",
   "mimetype": "text/x-python",
   "name": "python",
   "nbconvert_exporter": "python",
   "pygments_lexer": "ipython3",
   "version": "3.11.3"
  }
 },
 "nbformat": 4,
 "nbformat_minor": 5
}
