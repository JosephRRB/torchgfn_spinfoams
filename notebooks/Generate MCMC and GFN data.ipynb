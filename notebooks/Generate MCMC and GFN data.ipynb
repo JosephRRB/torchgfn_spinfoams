{
 "cells": [
  {
   "cell_type": "code",
   "execution_count": 1,
   "id": "6920b58f",
   "metadata": {},
   "outputs": [],
   "source": [
    "import os\n",
    "import sys\n",
    "\n",
    "ROOT_DIR = os.path.abspath(\"__file__\" + \"/../../\")\n",
    "sys.path.insert(0, f\"{ROOT_DIR}\")"
   ]
  },
  {
   "cell_type": "code",
   "execution_count": 2,
   "id": "ae941fe2",
   "metadata": {},
   "outputs": [],
   "source": [
    "import numpy as np\n",
    "\n",
    "def _get_vertex_sq_amplitudes(gridLength, root=ROOT_DIR):\n",
    "    spin_j = (gridLength - 1) / 2\n",
    "\n",
    "    vertex = np.load(f\"{root}/data/EPRL_vertices/Python/Dl_20/vertex_j_{float(spin_j)}.npz\")\n",
    "    sq_ampl = vertex**2\n",
    "    return sq_ampl"
   ]
  },
  {
   "cell_type": "code",
   "execution_count": 3,
   "id": "c5b5d29e",
   "metadata": {},
   "outputs": [],
   "source": [
    "from src.MCMC.MCMC import VertexMCMC\n",
    "\n",
    "iterationsNumber = int(1e5)\n",
    "batchSize = int(1e4)\n",
    "burnFactor = 0\n",
    "deviation = 0.8\n",
    "dimensions = 5\n",
    "gridLength = 13\n",
    "spin_j = (gridLength - 1) / 2\n",
    "\n",
    "verbosity = 1\n",
    "\n",
    "drawsFolder = f\"{ROOT_DIR}/data/MCMC/j={float(spin_j)}/\"\n",
    "os.makedirs(drawsFolder, exist_ok=True)\n",
    "\n",
    "VertexMCMC(\n",
    "    gridLength = gridLength, iterationsNumber = iterationsNumber, batchSize = batchSize, \n",
    "    deviation = deviation, burnFactor = burnFactor, verbosity = verbosity, \n",
    "    drawsFolder = drawsFolder, mean = 0., rewardFunction=_get_vertex_sq_amplitudes, dimensions=dimensions \n",
    ")"
   ]
  },
  {
   "cell_type": "code",
   "execution_count": 9,
   "id": "e4303a34",
   "metadata": {},
   "outputs": [
    {
     "data": {
      "text/plain": [
       "<matplotlib.collections.LineCollection at 0x7f7cf12820d0>"
      ]
     },
     "execution_count": 9,
     "metadata": {},
     "output_type": "execute_result"
    },
    {
     "data": {
      "image/png": "[encoded data removed]",
      "text/plain": [
       "<Figure size 640x480 with 1 Axes>"
      ]
     },
     "metadata": {},
     "output_type": "display_data"
    }
   ],
   "source": [
    "import glob\n",
    "import pandas as pd\n",
    "import matplotlib.pyplot as plt\n",
    "\n",
    "def load_mcmc_intertwiners(mcmc_files):\n",
    "    intertwiners = []\n",
    "    for file in mcmc_files:\n",
    "        df = pd.read_csv(file)\n",
    "        intertwiners.append(df.loc[df.index.repeat(df.multiplicity)].iloc[:, :-1].to_numpy())\n",
    "    return intertwiners\n",
    "\n",
    "def calculate_mean_cosine_dihedral_angle(intertwiners, spin):\n",
    "    cos_angles = intertwiners*(intertwiners+1)/(2*spin*(spin+1)) - 1\n",
    "    return cos_angles.mean(axis=0)[0]\n",
    "\n",
    "mcmc_files = sorted(\n",
    "    glob.glob(f\"{ROOT_DIR}/data/MCMC/j={float(spin_j)}/draws_*.csv\"), \n",
    "    key=lambda x: int(x.split(\".\")[-2].split(\"_\")[-1])\n",
    ")\n",
    "mcmc_intertwiners = load_mcmc_intertwiners(mcmc_files)\n",
    "mean_obs_mcmc = [\n",
    "    calculate_mean_cosine_dihedral_angle(intertwiners, spin_j)\n",
    "    for intertwiners in mcmc_intertwiners\n",
    "]\n",
    "\n",
    "xs = [int((i+1)*batchSize) for i in range(len(mcmc_files))]\n",
    "plt.scatter(xs, mean_obs_mcmc)\n",
    "plt.hlines(-0.33333, 1, int(iterationsNumber), colors='k', linestyles='dashed')"
   ]
  },
  {
   "cell_type": "code",
   "execution_count": 10,
   "id": "4654dbbd",
   "metadata": {},
   "outputs": [
    {
     "data": {
      "text/plain": [
       "[-0.9708238095238095,\n",
       " -0.9761904761906437,\n",
       " -0.9761904761906437,\n",
       " -0.9761904761906437,\n",
       " -0.9761904761906437,\n",
       " -0.9761904761906437,\n",
       " -0.9761904761906437,\n",
       " -0.9761904761906437,\n",
       " -0.9761904761906437,\n",
       " -0.9761904761906437]"
      ]
     },
     "execution_count": 10,
     "metadata": {},
     "output_type": "execute_result"
    }
   ],
   "source": [
    "mean_obs_mcmc"
   ]
  },
  {
   "cell_type": "code",
   "execution_count": null,
   "id": "80ee3bcd",
   "metadata": {},
   "outputs": [],
   "source": []
  }
 ],
 "metadata": {
  "kernelspec": {
   "display_name": "Python [conda env:gfn] *",
   "language": "python",
   "name": "conda-env-gfn-py"
  },
  "language_info": {
   "codemirror_mode": {
    "name": "ipython",
    "version": 3
   },
   "file_extension": ".py",
   "mimetype": "text/x-python",
   "name": "python",
   "nbconvert_exporter": "python",
   "pygments_lexer": "ipython3",
   "version": "3.11.3"
  }
 },
 "nbformat": 4,
 "nbformat_minor": 5
}
