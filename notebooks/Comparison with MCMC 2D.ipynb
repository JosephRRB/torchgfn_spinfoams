{
 "cells": [
  {
   "attachments": {},
   "cell_type": "markdown",
   "metadata": {},
   "source": [
    " # Comparison of GFlowNets with MCMC methods in 2D for the 4-simplex.\n",
    "\n",
    " "
   ]
  },
  {
   "cell_type": "code",
   "execution_count": 1,
   "metadata": {},
   "outputs": [],
   "source": [
    "%load_ext autoreload\n",
    "%autoreload 2"
   ]
  },
  {
   "cell_type": "code",
   "execution_count": 51,
   "metadata": {},
   "outputs": [],
   "source": [
    "import MCMC_2D\n",
    "import pandas as pd\n",
    "import numpy as np\n",
    "import os\n",
    "import matplotlib.pyplot as plt"
   ]
  },
  {
   "cell_type": "code",
   "execution_count": 11,
   "metadata": {},
   "outputs": [],
   "source": [
    "iterationsNumber = 10**4\n",
    "batchSize = 100\n",
    "burnFactor = 0\n",
    "deviation = 0.8\n",
    "spinJ = 4\n",
    "\n",
    "drawsFolderBase = \"../data/2DComparison/iterations_\"+str(iterationsNumber)+\"_batch_size_\"+str(batchSize)+\"_burnin_\"+str(burnFactor)+\"_sigma_\"+str(deviation)\n",
    "verbosity = 0\n",
    "\n",
    "drawsFolder = str(drawsFolderBase)+\"/j_\"+str(spinJ)+\"/draws/\"\n",
    "os.makedirs(drawsFolder, exist_ok=True)\n",
    "\n",
    "MCMC_2D.VertexMCMC(spinJ, iterationsNumber, batchSize, deviation, burnFactor, verbosity, drawsFolder, mean = 0.)"
   ]
  },
  {
   "cell_type": "code",
   "execution_count": 59,
   "metadata": {},
   "outputs": [],
   "source": [
    "df = pd.read_csv(r\"../data/2DComparison/iterations_10000_batch_size_100_burnin_0_sigma_0.8/j_4/draws/draws_batch_n_59.csv\")"
   ]
  },
  {
   "cell_type": "code",
   "execution_count": 60,
   "metadata": {},
   "outputs": [],
   "source": [
    "xdata = df.loc[:,[\"dimension 1\"]].to_numpy().flatten()\n",
    "ydata = df.loc[:,[\"dimension 2\"]].to_numpy().flatten()\n",
    "multiplicity = df.loc[:,[\"multiplicity\"]].to_numpy().flatten()\n",
    "\n"
   ]
  },
  {
   "cell_type": "code",
   "execution_count": 61,
   "metadata": {},
   "outputs": [
    {
     "data": {
      "text/plain": [
       "<matplotlib.collections.PathCollection at 0x7ffe841758d0>"
      ]
     },
     "execution_count": 61,
     "metadata": {},
     "output_type": "execute_result"
    },
    {
     "data": {
      "image/png": "[encoded data removed]",
      "text/plain": [
       "<Figure size 640x480 with 1 Axes>"
      ]
     },
     "metadata": {},
     "output_type": "display_data"
    }
   ],
   "source": [
    "plt.scatter(xdata, ydata, c='r', label='data')"
   ]
  },
  {
   "cell_type": "code",
   "execution_count": null,
   "metadata": {},
   "outputs": [],
   "source": []
  }
 ],
 "metadata": {
  "kernelspec": {
   "display_name": "gfn_spinfoams",
   "language": "python",
   "name": "gfn_spinfoams"
  },
  "language_info": {
   "codemirror_mode": {
    "name": "ipython",
    "version": 3
   },
   "file_extension": ".py",
   "mimetype": "text/x-python",
   "name": "python",
   "nbconvert_exporter": "python",
   "pygments_lexer": "ipython3",
   "version": "3.10.11"
  },
  "orig_nbformat": 4,
  "vscode": {
   "interpreter": {
    "hash": "a7c27113111d1124e3df3ab339996e03a0ec4aa637a826bfe77817b6b5b25923"
   }
  }
 },
 "nbformat": 4,
 "nbformat_minor": 2
}
