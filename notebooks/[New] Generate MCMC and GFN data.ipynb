{
 "cells": [
  {
   "cell_type": "code",
   "execution_count": 2,
   "id": "f1108cd5",
   "metadata": {},
   "outputs": [],
   "source": [
    "import os\n",
    "import sys\n",
    "\n",
    "ROOT_DIR = os.path.abspath(\"__file__\" + \"/../../\")\n",
    "sys.path.insert(0, f\"{ROOT_DIR}\")"
   ]
  },
  {
   "cell_type": "code",
   "execution_count": 3,
   "id": "353cbaa4",
   "metadata": {},
   "outputs": [],
   "source": [
    "import numpy as np\n",
    "\n",
    "spin_j = 3\n",
    "\n",
    "env_name = f\"single vertex spinfoam/j={float(spin_j)}\"\n",
    "batch_size = 16\n",
    "n_iterations = int(1e5)\n",
    "\n",
    "vertex = np.load(f\"{ROOT_DIR}/data/EPRL_vertices/Python/Dl_20/vertex_j_{float(spin_j)}.npz\")\n",
    "sq_ampl = vertex**2\n",
    "grid_rewards = sq_ampl / np.sum(sq_ampl)"
   ]
  },
  {
   "cell_type": "code",
   "execution_count": 3,
   "id": "ba64837b",
   "metadata": {},
   "outputs": [
    {
     "name": "stderr",
     "output_type": "stream",
     "text": [
      "100%|██████████| 100000/100000 [00:46<00:00, 2162.86it/s]\n"
     ]
    }
   ],
   "source": [
    "from src.MCMC.batched_mcmc import MCMCRunner\n",
    "\n",
    "mcmc = MCMCRunner(grid_rewards=grid_rewards)\n",
    "mcmc_chains, _ = mcmc.run_mcmc_chains(\n",
    "    batch_size=batch_size, n_iterations=n_iterations, generated_data_dir=f\"{ROOT_DIR}/data/MCMC/{env_name}\"\n",
    ")"
   ]
  },
  {
   "cell_type": "code",
   "execution_count": 4,
   "id": "93e4dcf1",
   "metadata": {},
   "outputs": [
    {
     "name": "stderr",
     "output_type": "stream",
     "text": [
      "100%|██████████| 100000/100000 [4:53:27<00:00,  5.68it/s] \n"
     ]
    }
   ],
   "source": [
    "from src.grid_environments.base import BaseGrid\n",
    "from src.trainers.trainer import base_train_gfn\n",
    "\n",
    "terminal_states, _ = base_train_gfn(\n",
    "    env=BaseGrid(grid_rewards=grid_rewards),\n",
    "    generated_data_dir=f\"{ROOT_DIR}/data/GFN/{env_name}\",\n",
    "    batch_size=batch_size,\n",
    "    n_iterations=n_iterations,\n",
    "    hidden_dim=256,\n",
    "    n_hidden_layers=2,\n",
    "    activation_fn=\"relu\",\n",
    "    exploration_rate=0.0,\n",
    "    learning_rate=0.001,\n",
    ")"
   ]
  },
  {
   "cell_type": "code",
   "execution_count": 4,
   "id": "f954aa44",
   "metadata": {},
   "outputs": [],
   "source": [
    "from src.MCMC.MCMC import grid_rewards_2d\n",
    "\n",
    "grid_len = 64\n",
    "dimensions = 2\n",
    "env_name = f\"GFN Paper Grid Peaks/grid_length={grid_len}, grid_dim={dimensions}\"\n",
    "\n",
    "batch_size = 16\n",
    "n_iterations = 200000\n",
    "\n",
    "gfn_paper_rewards = grid_rewards_2d(grid_len)"
   ]
  },
  {
   "cell_type": "code",
   "execution_count": 5,
   "id": "d0019b3e",
   "metadata": {},
   "outputs": [
    {
     "name": "stderr",
     "output_type": "stream",
     "text": [
      "  0%|          | 0/200000 [00:00<?, ?it/s]"
     ]
    },
    {
     "name": "stderr",
     "output_type": "stream",
     "text": [
      "100%|██████████| 200000/200000 [02:52<00:00, 1160.94it/s]\n"
     ]
    }
   ],
   "source": [
    "from src.MCMC.batched_mcmc import MCMCRunner\n",
    "\n",
    "mcmc = MCMCRunner(grid_rewards=gfn_paper_rewards)\n",
    "mcmc_chains, _ = mcmc.run_mcmc_chains(\n",
    "    batch_size=batch_size, n_iterations=n_iterations, generated_data_dir=f\"{ROOT_DIR}/data/MCMC/{env_name}\"\n",
    ")"
   ]
  },
  {
   "cell_type": "code",
   "execution_count": 6,
   "id": "85cdf357",
   "metadata": {},
   "outputs": [
    {
     "name": "stderr",
     "output_type": "stream",
     "text": [
      " 16%|█▋        | 32676/200000 [3:29:04<61:29:43,  1.32s/it]"
     ]
    }
   ],
   "source": [
    "from src.grid_environments.base import BaseGrid\n",
    "from src.trainers.trainer import base_train_gfn\n",
    "\n",
    "terminal_states, _ = base_train_gfn(\n",
    "    env=BaseGrid(grid_rewards=gfn_paper_rewards),\n",
    "    generated_data_dir=f\"{ROOT_DIR}/data/GFN/{env_name}\",\n",
    "    batch_size=batch_size,\n",
    "    n_iterations=n_iterations,\n",
    "    hidden_dim=256,\n",
    "    n_hidden_layers=2,\n",
    "    activation_fn=\"relu\",\n",
    "    exploration_rate=0.0,\n",
    "    learning_rate=0.0001,\n",
    ")"
   ]
  }
 ],
 "metadata": {
  "kernelspec": {
   "display_name": "base",
   "language": "python",
   "name": "python3"
  },
  "language_info": {
   "codemirror_mode": {
    "name": "ipython",
    "version": 3
   },
   "file_extension": ".py",
   "mimetype": "text/x-python",
   "name": "python",
   "nbconvert_exporter": "python",
   "pygments_lexer": "ipython3",
   "version": "3.11.4"
  }
 },
 "nbformat": 4,
 "nbformat_minor": 5
}
