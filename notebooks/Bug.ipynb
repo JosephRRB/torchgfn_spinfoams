{
 "cells": [
  {
   "cell_type": "code",
   "execution_count": 1,
   "id": "aff47483",
   "metadata": {},
   "outputs": [
    {
     "name": "stderr",
     "output_type": "stream",
     "text": [
      "/home/josephb/anaconda3/envs/gfn/lib/python3.10/site-packages/torch/optim/adam.py:33: UserWarning: optimizer contains a parameter group with duplicate parameters; in future, this will cause an error; see github.com/pytorch/pytorch/issues/40967 for more information\n",
      "  super().__init__(params, defaults)\n"
     ]
    }
   ],
   "source": [
    "import torch\n",
    "\n",
    "from gfn.envs import HyperGrid\n",
    "from gfn import LogitPBEstimator, LogitPFEstimator, LogZEstimator\n",
    "from gfn.losses import TBParametrization, TrajectoryBalance\n",
    "from gfn.samplers import DiscreteActionsSampler, TrajectoriesSampler\n",
    "\n",
    "\n",
    "torch.manual_seed(0)\n",
    "\n",
    "exploration_rate = 0.5\n",
    "learning_rate=0.0005\n",
    "\n",
    "env = HyperGrid(ndim=5, height=2)\n",
    "\n",
    "logit_PF = LogitPFEstimator(\n",
    "    env=env,\n",
    "    module_name=\"NeuralNet\",\n",
    ")\n",
    "logit_PB = LogitPBEstimator(\n",
    "    env=env,\n",
    "    module_name=\"NeuralNet\",\n",
    "    torso=logit_PF.module.torso,\n",
    ")\n",
    "logZ = LogZEstimator(torch.tensor(0.0))\n",
    "\n",
    "training_sampler = TrajectoriesSampler(\n",
    "    env=env,\n",
    "    actions_sampler=DiscreteActionsSampler(\n",
    "        estimator=logit_PF,\n",
    "        epsilon=exploration_rate\n",
    "    )\n",
    ")\n",
    "\n",
    "parametrization = TBParametrization(logit_PF, logit_PB, logZ)\n",
    "loss_fn = TrajectoryBalance(\n",
    "    parametrization=parametrization,\n",
    ")\n",
    "\n",
    "params = [\n",
    "    {\n",
    "        \"params\": [\n",
    "            val for key, val in parametrization.parameters.items() if \"logZ\" not in key\n",
    "        ],\n",
    "        \"lr\": learning_rate,\n",
    "    },\n",
    "    {\"params\": [val for key, val in parametrization.parameters.items() if \"logZ\" in key], \"lr\": 0.1},\n",
    "]\n",
    "optimizer = torch.optim.Adam(params=params)\n",
    "\n",
    "\n"
   ]
  },
  {
   "cell_type": "code",
   "execution_count": 2,
   "id": "a8903682",
   "metadata": {},
   "outputs": [
    {
     "name": "stderr",
     "output_type": "stream",
     "text": [
      "  0%|                                                                                                                                             | 0/10000 [00:00<?, ?it/s]/home/josephb/anaconda3/envs/gfn/lib/python3.10/site-packages/torch/autograd/__init__.py:200: UserWarning: CUDA initialization: CUDA unknown error - this may be due to an incorrectly set up environment, e.g. changing env variable CUDA_VISIBLE_DEVICES after program start. Setting the available devices to be zero. (Triggered internally at ../c10/cuda/CUDAFunctions.cpp:109.)\n",
      "  Variable._execution_engine.run_backward(  # Calls into the C++ engine to run the backward pass\n",
      "  0%|▍                                                                                                                     | 40/10000 [02:38<10:59:15,  3.97s/it, loss=7.66]\n"
     ]
    },
    {
     "ename": "NonValidActionsError",
     "evalue": "Actions are not valid",
     "output_type": "error",
     "traceback": [
      "\u001b[0;31m---------------------------------------------------------------------------\u001b[0m",
      "\u001b[0;31mNonValidActionsError\u001b[0m                      Traceback (most recent call last)",
      "Cell \u001b[0;32mIn[2], line 8\u001b[0m\n\u001b[1;32m      5\u001b[0m batch_size \u001b[38;5;241m=\u001b[39m \u001b[38;5;28mint\u001b[39m(\u001b[38;5;241m1e5\u001b[39m)\n\u001b[1;32m      7\u001b[0m \u001b[38;5;28;01mfor\u001b[39;00m i \u001b[38;5;129;01min\u001b[39;00m (pbar \u001b[38;5;241m:=\u001b[39m tqdm(\u001b[38;5;28mrange\u001b[39m(n_iterations))):\n\u001b[0;32m----> 8\u001b[0m     trajectories \u001b[38;5;241m=\u001b[39m \u001b[43mtraining_sampler\u001b[49m\u001b[38;5;241;43m.\u001b[39;49m\u001b[43msample\u001b[49m\u001b[43m(\u001b[49m\n\u001b[1;32m      9\u001b[0m \u001b[43m        \u001b[49m\u001b[43mn_trajectories\u001b[49m\u001b[38;5;241;43m=\u001b[39;49m\u001b[43mbatch_size\u001b[49m\n\u001b[1;32m     10\u001b[0m \u001b[43m    \u001b[49m\u001b[43m)\u001b[49m\n\u001b[1;32m     12\u001b[0m     optimizer\u001b[38;5;241m.\u001b[39mzero_grad()\n\u001b[1;32m     13\u001b[0m     loss \u001b[38;5;241m=\u001b[39m loss_fn(trajectories)\n",
      "File \u001b[0;32m~/anaconda3/envs/gfn/lib/python3.10/site-packages/gfn/samplers/trajectories_sampler.py:128\u001b[0m, in \u001b[0;36mTrajectoriesSampler.sample\u001b[0;34m(self, n_trajectories)\u001b[0m\n\u001b[1;32m    127\u001b[0m \u001b[38;5;28;01mdef\u001b[39;00m \u001b[38;5;21msample\u001b[39m(\u001b[38;5;28mself\u001b[39m, n_trajectories: \u001b[38;5;28mint\u001b[39m) \u001b[38;5;241m-\u001b[39m\u001b[38;5;241m>\u001b[39m Trajectories:\n\u001b[0;32m--> 128\u001b[0m     \u001b[38;5;28;01mreturn\u001b[39;00m \u001b[38;5;28;43mself\u001b[39;49m\u001b[38;5;241;43m.\u001b[39;49m\u001b[43msample_trajectories\u001b[49m\u001b[43m(\u001b[49m\u001b[43mn_trajectories\u001b[49m\u001b[38;5;241;43m=\u001b[39;49m\u001b[43mn_trajectories\u001b[49m\u001b[43m)\u001b[49m\n",
      "File \u001b[0;32m~/anaconda3/envs/gfn/lib/python3.10/site-packages/gfn/samplers/trajectories_sampler.py:86\u001b[0m, in \u001b[0;36mTrajectoriesSampler.sample_trajectories\u001b[0;34m(self, states, n_trajectories)\u001b[0m\n\u001b[1;32m     84\u001b[0m     new_states \u001b[38;5;241m=\u001b[39m \u001b[38;5;28mself\u001b[39m\u001b[38;5;241m.\u001b[39menv\u001b[38;5;241m.\u001b[39mbackward_step(states, actions)\n\u001b[1;32m     85\u001b[0m \u001b[38;5;28;01melse\u001b[39;00m:\n\u001b[0;32m---> 86\u001b[0m     new_states \u001b[38;5;241m=\u001b[39m \u001b[38;5;28;43mself\u001b[39;49m\u001b[38;5;241;43m.\u001b[39;49m\u001b[43menv\u001b[49m\u001b[38;5;241;43m.\u001b[39;49m\u001b[43mstep\u001b[49m\u001b[43m(\u001b[49m\u001b[43mstates\u001b[49m\u001b[43m,\u001b[49m\u001b[43m \u001b[49m\u001b[43mactions\u001b[49m\u001b[43m)\u001b[49m\n\u001b[1;32m     87\u001b[0m sink_states_mask \u001b[38;5;241m=\u001b[39m new_states\u001b[38;5;241m.\u001b[39mis_sink_state\n\u001b[1;32m     89\u001b[0m step \u001b[38;5;241m+\u001b[39m\u001b[38;5;241m=\u001b[39m \u001b[38;5;241m1\u001b[39m\n",
      "File \u001b[0;32m~/anaconda3/envs/gfn/lib/python3.10/site-packages/gfn/envs/env.py:175\u001b[0m, in \u001b[0;36mEnv.step\u001b[0;34m(self, states, actions)\u001b[0m\n\u001b[1;32m    171\u001b[0m     valid_actions_bool \u001b[38;5;241m=\u001b[39m \u001b[38;5;28mall\u001b[39m(\n\u001b[1;32m    172\u001b[0m         torch\u001b[38;5;241m.\u001b[39mgather(valid_states_masks, \u001b[38;5;241m1\u001b[39m, valid_actions\u001b[38;5;241m.\u001b[39munsqueeze(\u001b[38;5;241m1\u001b[39m))\n\u001b[1;32m    173\u001b[0m     )\n\u001b[1;32m    174\u001b[0m     \u001b[38;5;28;01mif\u001b[39;00m \u001b[38;5;129;01mnot\u001b[39;00m valid_actions_bool:\n\u001b[0;32m--> 175\u001b[0m         \u001b[38;5;28;01mraise\u001b[39;00m NonValidActionsError(\u001b[38;5;124m\"\u001b[39m\u001b[38;5;124mActions are not valid\u001b[39m\u001b[38;5;124m\"\u001b[39m)\n\u001b[1;32m    177\u001b[0m new_sink_states \u001b[38;5;241m=\u001b[39m \u001b[38;5;28mself\u001b[39m\u001b[38;5;241m.\u001b[39mis_exit_actions(actions)\n\u001b[1;32m    178\u001b[0m new_states\u001b[38;5;241m.\u001b[39mstates_tensor[new_sink_states] \u001b[38;5;241m=\u001b[39m \u001b[38;5;28mself\u001b[39m\u001b[38;5;241m.\u001b[39msf\n",
      "\u001b[0;31mNonValidActionsError\u001b[0m: Actions are not valid"
     ]
    }
   ],
   "source": [
    "from tqdm import tqdm\n",
    "\n",
    "\n",
    "n_iterations = int(1e4)\n",
    "batch_size = int(1e5)\n",
    "\n",
    "for i in (pbar := tqdm(range(n_iterations))):\n",
    "    trajectories = training_sampler.sample(\n",
    "        n_trajectories=batch_size\n",
    "    )\n",
    "\n",
    "    optimizer.zero_grad()\n",
    "    loss = loss_fn(trajectories)\n",
    "    loss.backward()\n",
    "    optimizer.step()\n",
    "\n",
    "    if i % int(1e4) == 0:\n",
    "        pbar.set_postfix({\"loss\": loss.item()})"
   ]
  },
  {
   "cell_type": "code",
   "execution_count": null,
   "id": "9a9117ee",
   "metadata": {},
   "outputs": [],
   "source": []
  }
 ],
 "metadata": {
  "kernelspec": {
   "display_name": "Python 3 (ipykernel)",
   "language": "python",
   "name": "python3"
  },
  "language_info": {
   "codemirror_mode": {
    "name": "ipython",
    "version": 3
   },
   "file_extension": ".py",
   "mimetype": "text/x-python",
   "name": "python",
   "nbconvert_exporter": "python",
   "pygments_lexer": "ipython3",
   "version": "3.10.11"
  }
 },
 "nbformat": 4,
 "nbformat_minor": 5
}
